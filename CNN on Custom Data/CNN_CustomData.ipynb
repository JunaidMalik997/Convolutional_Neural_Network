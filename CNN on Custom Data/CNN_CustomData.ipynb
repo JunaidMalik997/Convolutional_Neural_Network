{
 "cells": [
  {
   "cell_type": "code",
   "execution_count": 1,
   "id": "e7d2f9d9",
   "metadata": {},
   "outputs": [],
   "source": [
    "import os   #operating system"
   ]
  },
  {
   "cell_type": "code",
   "execution_count": 2,
   "id": "450bd562",
   "metadata": {},
   "outputs": [],
   "source": [
    "data_dir=\"C:/Users/hp/Desktop/cell_images\""
   ]
  },
  {
   "cell_type": "code",
   "execution_count": 3,
   "id": "3320ec72",
   "metadata": {},
   "outputs": [
    {
     "data": {
      "text/plain": [
       "['test', 'train']"
      ]
     },
     "execution_count": 3,
     "metadata": {},
     "output_type": "execute_result"
    }
   ],
   "source": [
    "os.listdir(data_dir)"
   ]
  },
  {
   "cell_type": "code",
   "execution_count": 4,
   "id": "e6f0059f",
   "metadata": {},
   "outputs": [],
   "source": [
    "#using CNN on custom images. On our own png or jpg images"
   ]
  },
  {
   "cell_type": "code",
   "execution_count": 5,
   "id": "93b09c16",
   "metadata": {},
   "outputs": [
    {
     "name": "stderr",
     "output_type": "stream",
     "text": [
      "In C:\\Users\\hp\\Anaconda3\\lib\\site-packages\\matplotlib\\mpl-data\\stylelib\\_classic_test.mplstyle: \n",
      "The text.latex.preview rcparam was deprecated in Matplotlib 3.3 and will be removed two minor releases later.\n",
      "In C:\\Users\\hp\\Anaconda3\\lib\\site-packages\\matplotlib\\mpl-data\\stylelib\\_classic_test.mplstyle: \n",
      "The mathtext.fallback_to_cm rcparam was deprecated in Matplotlib 3.3 and will be removed two minor releases later.\n",
      "In C:\\Users\\hp\\Anaconda3\\lib\\site-packages\\matplotlib\\mpl-data\\stylelib\\_classic_test.mplstyle: Support for setting the 'mathtext.fallback_to_cm' rcParam is deprecated since 3.3 and will be removed two minor releases later; use 'mathtext.fallback : 'cm' instead.\n",
      "In C:\\Users\\hp\\Anaconda3\\lib\\site-packages\\matplotlib\\mpl-data\\stylelib\\_classic_test.mplstyle: \n",
      "The validate_bool_maybe_none function was deprecated in Matplotlib 3.3 and will be removed two minor releases later.\n",
      "In C:\\Users\\hp\\Anaconda3\\lib\\site-packages\\matplotlib\\mpl-data\\stylelib\\_classic_test.mplstyle: \n",
      "The savefig.jpeg_quality rcparam was deprecated in Matplotlib 3.3 and will be removed two minor releases later.\n",
      "In C:\\Users\\hp\\Anaconda3\\lib\\site-packages\\matplotlib\\mpl-data\\stylelib\\_classic_test.mplstyle: \n",
      "The keymap.all_axes rcparam was deprecated in Matplotlib 3.3 and will be removed two minor releases later.\n",
      "In C:\\Users\\hp\\Anaconda3\\lib\\site-packages\\matplotlib\\mpl-data\\stylelib\\_classic_test.mplstyle: \n",
      "The animation.avconv_path rcparam was deprecated in Matplotlib 3.3 and will be removed two minor releases later.\n",
      "In C:\\Users\\hp\\Anaconda3\\lib\\site-packages\\matplotlib\\mpl-data\\stylelib\\_classic_test.mplstyle: \n",
      "The animation.avconv_args rcparam was deprecated in Matplotlib 3.3 and will be removed two minor releases later.\n"
     ]
    }
   ],
   "source": [
    "import pandas as pd\n",
    "import numpy as np\n",
    "import seaborn as sns\n",
    "import matplotlib.pyplot as plt\n",
    "%matplotlib inline"
   ]
  },
  {
   "cell_type": "code",
   "execution_count": 6,
   "id": "19b2d5fb",
   "metadata": {},
   "outputs": [],
   "source": [
    "#now there is another import that we have to do to read in real image files\n",
    "from matplotlib.image import imread     #allows us to read image files directly"
   ]
  },
  {
   "cell_type": "code",
   "execution_count": 7,
   "id": "bb65fc2d",
   "metadata": {},
   "outputs": [],
   "source": [
    "test_path=data_dir+'/test/'\n",
    "train_path=data_dir+'/train/'"
   ]
  },
  {
   "cell_type": "code",
   "execution_count": 8,
   "id": "d7b4a834",
   "metadata": {},
   "outputs": [
    {
     "data": {
      "text/plain": [
       "'C:/Users/hp/Desktop/cell_images/test/'"
      ]
     },
     "execution_count": 8,
     "metadata": {},
     "output_type": "execute_result"
    }
   ],
   "source": [
    "test_path"
   ]
  },
  {
   "cell_type": "code",
   "execution_count": 9,
   "id": "b104a7f0",
   "metadata": {},
   "outputs": [
    {
     "data": {
      "text/plain": [
       "['parasitized', 'uninfected']"
      ]
     },
     "execution_count": 9,
     "metadata": {},
     "output_type": "execute_result"
    }
   ],
   "source": [
    "os.listdir(test_path)\n",
    "#these are just the images of cells whether or not they have been infected by malaria"
   ]
  },
  {
   "cell_type": "code",
   "execution_count": 10,
   "id": "7e65e613",
   "metadata": {},
   "outputs": [
    {
     "data": {
      "text/plain": [
       "['parasitized', 'uninfected']"
      ]
     },
     "execution_count": 10,
     "metadata": {},
     "output_type": "execute_result"
    }
   ],
   "source": [
    "os.listdir(train_path)"
   ]
  },
  {
   "cell_type": "code",
   "execution_count": 11,
   "id": "13c13af7",
   "metadata": {},
   "outputs": [],
   "source": [
    "#we are going to attempt to build a model that just based off the image of a cell can predict whether or not it's infected \n",
    "#or not infected"
   ]
  },
  {
   "cell_type": "code",
   "execution_count": 12,
   "id": "d3977c10",
   "metadata": {},
   "outputs": [
    {
     "data": {
      "text/plain": [
       "'C100P61ThinF_IMG_20150918_144104_cell_162.png'"
      ]
     },
     "execution_count": 12,
     "metadata": {},
     "output_type": "execute_result"
    }
   ],
   "source": [
    "os.listdir(train_path+'parasitized')[0]"
   ]
  },
  {
   "cell_type": "code",
   "execution_count": 13,
   "id": "a0bceed9",
   "metadata": {},
   "outputs": [],
   "source": [
    "para_cell=train_path+'parasitized/'+'C100P61ThinF_IMG_20150918_144104_cell_162.png'"
   ]
  },
  {
   "cell_type": "code",
   "execution_count": 14,
   "id": "e7560132",
   "metadata": {},
   "outputs": [
    {
     "data": {
      "text/plain": [
       "'C:/Users/hp/Desktop/cell_images/train/parasitized/C100P61ThinF_IMG_20150918_144104_cell_162.png'"
      ]
     },
     "execution_count": 14,
     "metadata": {},
     "output_type": "execute_result"
    }
   ],
   "source": [
    "para_cell"
   ]
  },
  {
   "cell_type": "code",
   "execution_count": 15,
   "id": "1037ad75",
   "metadata": {},
   "outputs": [
    {
     "data": {
      "text/plain": [
       "array([[[0., 0., 0.],\n",
       "        [0., 0., 0.],\n",
       "        [0., 0., 0.],\n",
       "        ...,\n",
       "        [0., 0., 0.],\n",
       "        [0., 0., 0.],\n",
       "        [0., 0., 0.]],\n",
       "\n",
       "       [[0., 0., 0.],\n",
       "        [0., 0., 0.],\n",
       "        [0., 0., 0.],\n",
       "        ...,\n",
       "        [0., 0., 0.],\n",
       "        [0., 0., 0.],\n",
       "        [0., 0., 0.]],\n",
       "\n",
       "       [[0., 0., 0.],\n",
       "        [0., 0., 0.],\n",
       "        [0., 0., 0.],\n",
       "        ...,\n",
       "        [0., 0., 0.],\n",
       "        [0., 0., 0.],\n",
       "        [0., 0., 0.]],\n",
       "\n",
       "       ...,\n",
       "\n",
       "       [[0., 0., 0.],\n",
       "        [0., 0., 0.],\n",
       "        [0., 0., 0.],\n",
       "        ...,\n",
       "        [0., 0., 0.],\n",
       "        [0., 0., 0.],\n",
       "        [0., 0., 0.]],\n",
       "\n",
       "       [[0., 0., 0.],\n",
       "        [0., 0., 0.],\n",
       "        [0., 0., 0.],\n",
       "        ...,\n",
       "        [0., 0., 0.],\n",
       "        [0., 0., 0.],\n",
       "        [0., 0., 0.]],\n",
       "\n",
       "       [[0., 0., 0.],\n",
       "        [0., 0., 0.],\n",
       "        [0., 0., 0.],\n",
       "        ...,\n",
       "        [0., 0., 0.],\n",
       "        [0., 0., 0.],\n",
       "        [0., 0., 0.]]], dtype=float32)"
      ]
     },
     "execution_count": 15,
     "metadata": {},
     "output_type": "execute_result"
    }
   ],
   "source": [
    "imread(para_cell)\n",
    "#this imread file automaticall transforms png file into an array for us"
   ]
  },
  {
   "cell_type": "code",
   "execution_count": 16,
   "id": "27e53643",
   "metadata": {},
   "outputs": [
    {
     "data": {
      "text/plain": [
       "(148, 142, 3)"
      ]
     },
     "execution_count": 16,
     "metadata": {},
     "output_type": "execute_result"
    }
   ],
   "source": [
    "imread(para_cell).shape"
   ]
  },
  {
   "cell_type": "code",
   "execution_count": 17,
   "id": "86c56236",
   "metadata": {},
   "outputs": [
    {
     "data": {
      "text/plain": [
       "<matplotlib.image.AxesImage at 0x162aa2a88c8>"
      ]
     },
     "execution_count": 17,
     "metadata": {},
     "output_type": "execute_result"
    },
    {
     "data": {
      "image/png": "[encoded data removed]",
      "text/plain": [
       "<Figure size 432x288 with 1 Axes>"
      ]
     },
     "metadata": {
      "needs_background": "light"
     },
     "output_type": "display_data"
    }
   ],
   "source": [
    "plt.imshow(imread(para_cell))"
   ]
  },
  {
   "cell_type": "code",
   "execution_count": 18,
   "id": "d038909e",
   "metadata": {},
   "outputs": [
    {
     "data": {
      "text/plain": [
       "'C100P61ThinF_IMG_20150918_144104_cell_128.png'"
      ]
     },
     "execution_count": 18,
     "metadata": {},
     "output_type": "execute_result"
    }
   ],
   "source": [
    "os.listdir(train_path+'uninfected/')[0]"
   ]
  },
  {
   "cell_type": "code",
   "execution_count": 19,
   "id": "b0473c20",
   "metadata": {},
   "outputs": [],
   "source": [
    "uninfected_cell=train_path+'uninfected/'+'C100P61ThinF_IMG_20150918_144104_cell_128.png'"
   ]
  },
  {
   "cell_type": "code",
   "execution_count": 20,
   "id": "47747940",
   "metadata": {},
   "outputs": [
    {
     "data": {
      "text/plain": [
       "'C:/Users/hp/Desktop/cell_images/train/uninfected/C100P61ThinF_IMG_20150918_144104_cell_128.png'"
      ]
     },
     "execution_count": 20,
     "metadata": {},
     "output_type": "execute_result"
    }
   ],
   "source": [
    "uninfected_cell"
   ]
  },
  {
   "cell_type": "code",
   "execution_count": 21,
   "id": "ecb876b8",
   "metadata": {},
   "outputs": [],
   "source": [
    "uninfected_cell=imread(uninfected_cell)"
   ]
  },
  {
   "cell_type": "code",
   "execution_count": 67,
   "id": "7a50707e",
   "metadata": {},
   "outputs": [],
   "source": [
    "#imread(uninfected_cell).shape"
   ]
  },
  {
   "cell_type": "code",
   "execution_count": 22,
   "id": "30301476",
   "metadata": {},
   "outputs": [
    {
     "data": {
      "text/plain": [
       "<matplotlib.image.AxesImage at 0x162ab52a948>"
      ]
     },
     "execution_count": 22,
     "metadata": {},
     "output_type": "execute_result"
    },
    {
     "data": {
      "image/png": "[encoded data removed]",
      "text/plain": [
       "<Figure size 432x288 with 1 Axes>"
      ]
     },
     "metadata": {
      "needs_background": "light"
     },
     "output_type": "display_data"
    }
   ],
   "source": [
    "plt.imshow(uninfected_cell)"
   ]
  },
  {
   "cell_type": "code",
   "execution_count": 23,
   "id": "021f771c",
   "metadata": {},
   "outputs": [
    {
     "data": {
      "text/plain": [
       "'C:\\\\Users\\\\hp\\\\AppData\\\\Roaming\\\\SPB_Data'"
      ]
     },
     "execution_count": 23,
     "metadata": {},
     "output_type": "execute_result"
    }
   ],
   "source": [
    "pwd"
   ]
  },
  {
   "cell_type": "code",
   "execution_count": 24,
   "id": "6e3f60c9",
   "metadata": {},
   "outputs": [
    {
     "data": {
      "text/plain": [
       "12480"
      ]
     },
     "execution_count": 24,
     "metadata": {},
     "output_type": "execute_result"
    }
   ],
   "source": [
    "#let's go ahead and check how many images there are \n",
    "len(os.listdir(train_path+'parasitized'))"
   ]
  },
  {
   "cell_type": "code",
   "execution_count": 25,
   "id": "51d75684",
   "metadata": {},
   "outputs": [
    {
     "data": {
      "text/plain": [
       "12480"
      ]
     },
     "execution_count": 25,
     "metadata": {},
     "output_type": "execute_result"
    }
   ],
   "source": [
    "len(os.listdir(train_path+'uninfected'))"
   ]
  },
  {
   "cell_type": "code",
   "execution_count": 26,
   "id": "b5e96566",
   "metadata": {},
   "outputs": [
    {
     "data": {
      "text/plain": [
       "1300"
      ]
     },
     "execution_count": 26,
     "metadata": {},
     "output_type": "execute_result"
    }
   ],
   "source": [
    "len(os.listdir(test_path+'parasitized'))"
   ]
  },
  {
   "cell_type": "code",
   "execution_count": 27,
   "id": "52c5f6b1",
   "metadata": {},
   "outputs": [
    {
     "data": {
      "text/plain": [
       "1300"
      ]
     },
     "execution_count": 27,
     "metadata": {},
     "output_type": "execute_result"
    }
   ],
   "source": [
    "len(os.listdir(test_path+'uninfected'))"
   ]
  },
  {
   "cell_type": "code",
   "execution_count": 28,
   "id": "2354afee",
   "metadata": {},
   "outputs": [],
   "source": [
    "#since they are real world images it would be impossible if they are all of the same exact shape\n",
    "#all of them will have different dimensions\n",
    "\n",
    "dim1=[]\n",
    "dim2=[]\n",
    "\n",
    "for image_filename in os.listdir(test_path+'uninfected'):\n",
    "    \n",
    "    img=imread(test_path+'uninfected/'+image_filename)\n",
    "    d1,d2,color=img.shape      #img is of 3 dimensions as we hace seen earlier width, height and shape\n",
    "    dim1.append(d1)\n",
    "    dim2.append(d2)"
   ]
  },
  {
   "cell_type": "code",
   "execution_count": 29,
   "id": "5b119bfe",
   "metadata": {},
   "outputs": [
    {
     "data": {
      "text/plain": [
       "[118,\n",
       " 172,\n",
       " 130,\n",
       " 163,\n",
       " 172,\n",
       " 139,\n",
       " 151,\n",
       " 160,\n",
       " 145,\n",
       " 127,\n",
       " 121,\n",
       " 154,\n",
       " 145,\n",
       " 127,\n",
       " 154,\n",
       " 151,\n",
       " 148,\n",
       " 130,\n",
       " 160,\n",
       " 136,\n",
       " 139,\n",
       " 190,\n",
       " 127,\n",
       " 133,\n",
       " 136,\n",
       " 124,\n",
       " 151,\n",
       " 151,\n",
       " 151,\n",
       " 160,\n",
       " 118,\n",
       " 154,\n",
       " 154,\n",
       " 121,\n",
       " 127,\n",
       " 118,\n",
       " 130,\n",
       " 124,\n",
       " 163,\n",
       " 88,\n",
       " 139,\n",
       " 127,\n",
       " 121,\n",
       " 139,\n",
       " 166,\n",
       " 133,\n",
       " 124,\n",
       " 154,\n",
       " 139,\n",
       " 127,\n",
       " 124,\n",
       " 136,\n",
       " 166,\n",
       " 133,\n",
       " 145,\n",
       " 157,\n",
       " 181,\n",
       " 148,\n",
       " 112,\n",
       " 124,\n",
       " 112,\n",
       " 106,\n",
       " 121,\n",
       " 148,\n",
       " 148,\n",
       " 112,\n",
       " 121,\n",
       " 148,\n",
       " 97,\n",
       " 112,\n",
       " 142,\n",
       " 118,\n",
       " 130,\n",
       " 151,\n",
       " 133,\n",
       " 136,\n",
       " 115,\n",
       " 145,\n",
       " 115,\n",
       " 142,\n",
       " 136,\n",
       " 130,\n",
       " 142,\n",
       " 124,\n",
       " 142,\n",
       " 136,\n",
       " 166,\n",
       " 148,\n",
       " 136,\n",
       " 142,\n",
       " 133,\n",
       " 130,\n",
       " 139,\n",
       " 124,\n",
       " 139,\n",
       " 121,\n",
       " 130,\n",
       " 142,\n",
       " 133,\n",
       " 118,\n",
       " 157,\n",
       " 127,\n",
       " 109,\n",
       " 112,\n",
       " 139,\n",
       " 142,\n",
       " 142,\n",
       " 112,\n",
       " 118,\n",
       " 100,\n",
       " 127,\n",
       " 145,\n",
       " 136,\n",
       " 160,\n",
       " 187,\n",
       " 130,\n",
       " 130,\n",
       " 157,\n",
       " 130,\n",
       " 130,\n",
       " 151,\n",
       " 175,\n",
       " 145,\n",
       " 136,\n",
       " 157,\n",
       " 133,\n",
       " 127,\n",
       " 154,\n",
       " 133,\n",
       " 151,\n",
       " 130,\n",
       " 136,\n",
       " 160,\n",
       " 130,\n",
       " 139,\n",
       " 145,\n",
       " 145,\n",
       " 145,\n",
       " 154,\n",
       " 133,\n",
       " 160,\n",
       " 142,\n",
       " 157,\n",
       " 145,\n",
       " 136,\n",
       " 121,\n",
       " 115,\n",
       " 121,\n",
       " 121,\n",
       " 127,\n",
       " 145,\n",
       " 130,\n",
       " 133,\n",
       " 142,\n",
       " 127,\n",
       " 121,\n",
       " 139,\n",
       " 118,\n",
       " 118,\n",
       " 148,\n",
       " 121,\n",
       " 145,\n",
       " 130,\n",
       " 169,\n",
       " 142,\n",
       " 136,\n",
       " 148,\n",
       " 142,\n",
       " 169,\n",
       " 115,\n",
       " 109,\n",
       " 166,\n",
       " 145,\n",
       " 127,\n",
       " 124,\n",
       " 124,\n",
       " 130,\n",
       " 196,\n",
       " 97,\n",
       " 115,\n",
       " 133,\n",
       " 139,\n",
       " 148,\n",
       " 109,\n",
       " 127,\n",
       " 175,\n",
       " 148,\n",
       " 136,\n",
       " 175,\n",
       " 151,\n",
       " 154,\n",
       " 133,\n",
       " 145,\n",
       " 115,\n",
       " 130,\n",
       " 121,\n",
       " 133,\n",
       " 142,\n",
       " 121,\n",
       " 136,\n",
       " 142,\n",
       " 136,\n",
       " 145,\n",
       " 127,\n",
       " 151,\n",
       " 136,\n",
       " 145,\n",
       " 166,\n",
       " 139,\n",
       " 151,\n",
       " 127,\n",
       " 136,\n",
       " 142,\n",
       " 118,\n",
       " 145,\n",
       " 127,\n",
       " 127,\n",
       " 118,\n",
       " 121,\n",
       " 121,\n",
       " 121,\n",
       " 106,\n",
       " 88,\n",
       " 136,\n",
       " 151,\n",
       " 133,\n",
       " 88,\n",
       " 142,\n",
       " 103,\n",
       " 124,\n",
       " 148,\n",
       " 151,\n",
       " 139,\n",
       " 157,\n",
       " 148,\n",
       " 154,\n",
       " 115,\n",
       " 115,\n",
       " 136,\n",
       " 133,\n",
       " 130,\n",
       " 136,\n",
       " 112,\n",
       " 115,\n",
       " 136,\n",
       " 109,\n",
       " 145,\n",
       " 133,\n",
       " 136,\n",
       " 112,\n",
       " 124,\n",
       " 115,\n",
       " 100,\n",
       " 118,\n",
       " 148,\n",
       " 118,\n",
       " 94,\n",
       " 145,\n",
       " 115,\n",
       " 136,\n",
       " 103,\n",
       " 172,\n",
       " 154,\n",
       " 151,\n",
       " 172,\n",
       " 124,\n",
       " 133,\n",
       " 181,\n",
       " 142,\n",
       " 136,\n",
       " 148,\n",
       " 136,\n",
       " 115,\n",
       " 103,\n",
       " 118,\n",
       " 121,\n",
       " 136,\n",
       " 130,\n",
       " 154,\n",
       " 115,\n",
       " 127,\n",
       " 130,\n",
       " 133,\n",
       " 130,\n",
       " 133,\n",
       " 136,\n",
       " 172,\n",
       " 157,\n",
       " 145,\n",
       " 133,\n",
       " 109,\n",
       " 154,\n",
       " 130,\n",
       " 142,\n",
       " 121,\n",
       " 118,\n",
       " 130,\n",
       " 127,\n",
       " 106,\n",
       " 133,\n",
       " 112,\n",
       " 118,\n",
       " 76,\n",
       " 118,\n",
       " 115,\n",
       " 163,\n",
       " 145,\n",
       " 154,\n",
       " 121,\n",
       " 127,\n",
       " 130,\n",
       " 148,\n",
       " 118,\n",
       " 115,\n",
       " 127,\n",
       " 121,\n",
       " 109,\n",
       " 118,\n",
       " 124,\n",
       " 145,\n",
       " 166,\n",
       " 142,\n",
       " 136,\n",
       " 130,\n",
       " 145,\n",
       " 142,\n",
       " 148,\n",
       " 106,\n",
       " 124,\n",
       " 106,\n",
       " 115,\n",
       " 115,\n",
       " 127,\n",
       " 124,\n",
       " 163,\n",
       " 139,\n",
       " 124,\n",
       " 106,\n",
       " 130,\n",
       " 106,\n",
       " 103,\n",
       " 121,\n",
       " 130,\n",
       " 127,\n",
       " 127,\n",
       " 121,\n",
       " 121,\n",
       " 127,\n",
       " 124,\n",
       " 136,\n",
       " 118,\n",
       " 127,\n",
       " 115,\n",
       " 124,\n",
       " 112,\n",
       " 115,\n",
       " 124,\n",
       " 121,\n",
       " 121,\n",
       " 133,\n",
       " 133,\n",
       " 103,\n",
       " 118,\n",
       " 124,\n",
       " 154,\n",
       " 109,\n",
       " 133,\n",
       " 145,\n",
       " 124,\n",
       " 115,\n",
       " 127,\n",
       " 115,\n",
       " 115,\n",
       " 103,\n",
       " 136,\n",
       " 118,\n",
       " 109,\n",
       " 124,\n",
       " 118,\n",
       " 127,\n",
       " 124,\n",
       " 124,\n",
       " 112,\n",
       " 115,\n",
       " 124,\n",
       " 109,\n",
       " 130,\n",
       " 112,\n",
       " 127,\n",
       " 121,\n",
       " 112,\n",
       " 142,\n",
       " 130,\n",
       " 127,\n",
       " 127,\n",
       " 130,\n",
       " 148,\n",
       " 100,\n",
       " 127,\n",
       " 118,\n",
       " 112,\n",
       " 112,\n",
       " 121,\n",
       " 118,\n",
       " 121,\n",
       " 121,\n",
       " 112,\n",
       " 121,\n",
       " 121,\n",
       " 100,\n",
       " 130,\n",
       " 127,\n",
       " 130,\n",
       " 127,\n",
       " 124,\n",
       " 127,\n",
       " 118,\n",
       " 106,\n",
       " 127,\n",
       " 103,\n",
       " 106,\n",
       " 109,\n",
       " 118,\n",
       " 151,\n",
       " 121,\n",
       " 100,\n",
       " 139,\n",
       " 118,\n",
       " 133,\n",
       " 127,\n",
       " 145,\n",
       " 127,\n",
       " 127,\n",
       " 106,\n",
       " 109,\n",
       " 97,\n",
       " 175,\n",
       " 118,\n",
       " 127,\n",
       " 145,\n",
       " 121,\n",
       " 136,\n",
       " 124,\n",
       " 175,\n",
       " 172,\n",
       " 172,\n",
       " 130,\n",
       " 130,\n",
       " 130,\n",
       " 127,\n",
       " 142,\n",
       " 121,\n",
       " 112,\n",
       " 145,\n",
       " 115,\n",
       " 133,\n",
       " 121,\n",
       " 109,\n",
       " 106,\n",
       " 136,\n",
       " 103,\n",
       " 130,\n",
       " 124,\n",
       " 124,\n",
       " 124,\n",
       " 130,\n",
       " 139,\n",
       " 145,\n",
       " 97,\n",
       " 133,\n",
       " 103,\n",
       " 115,\n",
       " 130,\n",
       " 106,\n",
       " 133,\n",
       " 124,\n",
       " 118,\n",
       " 118,\n",
       " 109,\n",
       " 124,\n",
       " 118,\n",
       " 160,\n",
       " 91,\n",
       " 118,\n",
       " 130,\n",
       " 112,\n",
       " 124,\n",
       " 190,\n",
       " 121,\n",
       " 115,\n",
       " 136,\n",
       " 175,\n",
       " 127,\n",
       " 130,\n",
       " 118,\n",
       " 109,\n",
       " 94,\n",
       " 157,\n",
       " 100,\n",
       " 106,\n",
       " 148,\n",
       " 130,\n",
       " 133,\n",
       " 109,\n",
       " 91,\n",
       " 97,\n",
       " 85,\n",
       " 97,\n",
       " 97,\n",
       " 118,\n",
       " 115,\n",
       " 130,\n",
       " 124,\n",
       " 109,\n",
       " 97,\n",
       " 109,\n",
       " 136,\n",
       " 166,\n",
       " 139,\n",
       " 130,\n",
       " 163,\n",
       " 136,\n",
       " 136,\n",
       " 94,\n",
       " 160,\n",
       " 118,\n",
       " 112,\n",
       " 124,\n",
       " 94,\n",
       " 100,\n",
       " 91,\n",
       " 88,\n",
       " 112,\n",
       " 130,\n",
       " 133,\n",
       " 112,\n",
       " 109,\n",
       " 112,\n",
       " 118,\n",
       " 154,\n",
       " 136,\n",
       " 142,\n",
       " 130,\n",
       " 148,\n",
       " 166,\n",
       " 121,\n",
       " 115,\n",
       " 115,\n",
       " 136,\n",
       " 130,\n",
       " 127,\n",
       " 124,\n",
       " 145,\n",
       " 139,\n",
       " 136,\n",
       " 136,\n",
       " 112,\n",
       " 142,\n",
       " 130,\n",
       " 112,\n",
       " 118,\n",
       " 133,\n",
       " 121,\n",
       " 118,\n",
       " 154,\n",
       " 133,\n",
       " 124,\n",
       " 124,\n",
       " 148,\n",
       " 97,\n",
       " 109,\n",
       " 106,\n",
       " 112,\n",
       " 127,\n",
       " 88,\n",
       " 103,\n",
       " 94,\n",
       " 124,\n",
       " 85,\n",
       " 142,\n",
       " 136,\n",
       " 142,\n",
       " 127,\n",
       " 115,\n",
       " 130,\n",
       " 124,\n",
       " 142,\n",
       " 124,\n",
       " 124,\n",
       " 124,\n",
       " 148,\n",
       " 136,\n",
       " 130,\n",
       " 148,\n",
       " 115,\n",
       " 124,\n",
       " 136,\n",
       " 118,\n",
       " 142,\n",
       " 127,\n",
       " 154,\n",
       " 121,\n",
       " 178,\n",
       " 127,\n",
       " 130,\n",
       " 136,\n",
       " 145,\n",
       " 133,\n",
       " 106,\n",
       " 169,\n",
       " 133,\n",
       " 154,\n",
       " 118,\n",
       " 106,\n",
       " 133,\n",
       " 130,\n",
       " 142,\n",
       " 130,\n",
       " 148,\n",
       " 133,\n",
       " 145,\n",
       " 121,\n",
       " 121,\n",
       " 133,\n",
       " 154,\n",
       " 163,\n",
       " 130,\n",
       " 151,\n",
       " 139,\n",
       " 124,\n",
       " 118,\n",
       " 136,\n",
       " 115,\n",
       " 145,\n",
       " 127,\n",
       " 124,\n",
       " 139,\n",
       " 160,\n",
       " 148,\n",
       " 121,\n",
       " 154,\n",
       " 127,\n",
       " 124,\n",
       " 145,\n",
       " 124,\n",
       " 127,\n",
       " 136,\n",
       " 124,\n",
       " 115,\n",
       " 118,\n",
       " 133,\n",
       " 118,\n",
       " 106,\n",
       " 127,\n",
       " 121,\n",
       " 130,\n",
       " 103,\n",
       " 130,\n",
       " 172,\n",
       " 136,\n",
       " 139,\n",
       " 130,\n",
       " 148,\n",
       " 145,\n",
       " 115,\n",
       " 130,\n",
       " 118,\n",
       " 148,\n",
       " 127,\n",
       " 142,\n",
       " 121,\n",
       " 136,\n",
       " 130,\n",
       " 118,\n",
       " 133,\n",
       " 127,\n",
       " 136,\n",
       " 145,\n",
       " 136,\n",
       " 136,\n",
       " 118,\n",
       " 136,\n",
       " 124,\n",
       " 127,\n",
       " 121,\n",
       " 151,\n",
       " 142,\n",
       " 133,\n",
       " 133,\n",
       " 139,\n",
       " 136,\n",
       " 148,\n",
       " 142,\n",
       " 142,\n",
       " 109,\n",
       " 124,\n",
       " 121,\n",
       " 121,\n",
       " 130,\n",
       " 142,\n",
       " 139,\n",
       " 148,\n",
       " 136,\n",
       " 139,\n",
       " 118,\n",
       " 145,\n",
       " 121,\n",
       " 130,\n",
       " 124,\n",
       " 121,\n",
       " 109,\n",
       " 130,\n",
       " 136,\n",
       " 148,\n",
       " 127,\n",
       " 130,\n",
       " 142,\n",
       " 178,\n",
       " 121,\n",
       " 127,\n",
       " 136,\n",
       " 151,\n",
       " 121,\n",
       " 115,\n",
       " 115,\n",
       " 148,\n",
       " 124,\n",
       " 112,\n",
       " 118,\n",
       " 130,\n",
       " 124,\n",
       " 136,\n",
       " 160,\n",
       " 133,\n",
       " 145,\n",
       " 133,\n",
       " 133,\n",
       " 133,\n",
       " 136,\n",
       " 136,\n",
       " 139,\n",
       " 136,\n",
       " 160,\n",
       " 124,\n",
       " 103,\n",
       " 124,\n",
       " 130,\n",
       " 112,\n",
       " 154,\n",
       " 139,\n",
       " 139,\n",
       " 124,\n",
       " 142,\n",
       " 121,\n",
       " 145,\n",
       " 124,\n",
       " 145,\n",
       " 142,\n",
       " 133,\n",
       " 118,\n",
       " 151,\n",
       " 142,\n",
       " 133,\n",
       " 154,\n",
       " 124,\n",
       " 163,\n",
       " 139,\n",
       " 178,\n",
       " 115,\n",
       " 136,\n",
       " 142,\n",
       " 142,\n",
       " 145,\n",
       " 154,\n",
       " 115,\n",
       " 118,\n",
       " 124,\n",
       " 121,\n",
       " 136,\n",
       " 127,\n",
       " 124,\n",
       " 127,\n",
       " 106,\n",
       " 121,\n",
       " 127,\n",
       " 136,\n",
       " 109,\n",
       " 112,\n",
       " 124,\n",
       " 103,\n",
       " 139,\n",
       " 115,\n",
       " 136,\n",
       " 106,\n",
       " 127,\n",
       " 121,\n",
       " 130,\n",
       " 136,\n",
       " 136,\n",
       " 124,\n",
       " 115,\n",
       " 124,\n",
       " 121,\n",
       " 136,\n",
       " 121,\n",
       " 142,\n",
       " 124,\n",
       " 133,\n",
       " 124,\n",
       " 130,\n",
       " 127,\n",
       " 109,\n",
       " 157,\n",
       " 133,\n",
       " 124,\n",
       " 130,\n",
       " 145,\n",
       " 127,\n",
       " 118,\n",
       " 130,\n",
       " 157,\n",
       " 142,\n",
       " 139,\n",
       " 124,\n",
       " 139,\n",
       " 139,\n",
       " 136,\n",
       " 160,\n",
       " 97,\n",
       " 139,\n",
       " 133,\n",
       " 136,\n",
       " 136,\n",
       " 139,\n",
       " 142,\n",
       " 127,\n",
       " 112,\n",
       " 118,\n",
       " 118,\n",
       " 115,\n",
       " 106,\n",
       " 97,\n",
       " 130,\n",
       " 115,\n",
       " 136,\n",
       " 127,\n",
       " 103,\n",
       " 106,\n",
       " 118,\n",
       " 136,\n",
       " 133,\n",
       " 115,\n",
       " 133,\n",
       " 124,\n",
       " 133,\n",
       " 133,\n",
       " 118,\n",
       " 157,\n",
       " 112,\n",
       " 142,\n",
       " 151,\n",
       " 154,\n",
       " 169,\n",
       " 136,\n",
       " 130,\n",
       " 142,\n",
       " 121,\n",
       " 121,\n",
       " 148,\n",
       " 136,\n",
       " 142,\n",
       " 127,\n",
       " 142,\n",
       " 127,\n",
       " 118,\n",
       " 148,\n",
       " 154,\n",
       " 154,\n",
       " 166,\n",
       " 118,\n",
       " 142,\n",
       " 154,\n",
       " 139,\n",
       " 124,\n",
       " 127,\n",
       " 145,\n",
       " 115,\n",
       " 109,\n",
       " 121,\n",
       " 106,\n",
       " 130,\n",
       " 106,\n",
       " 148,\n",
       " 139,\n",
       " 127,\n",
       " 112,\n",
       " 136,\n",
       " 142,\n",
       " 112,\n",
       " 133,\n",
       " 130,\n",
       " 112,\n",
       " 118,\n",
       " 121,\n",
       " 112,\n",
       " 136,\n",
       " 121,\n",
       " 127,\n",
       " 124,\n",
       " 124,\n",
       " 124,\n",
       " 124,\n",
       " 118,\n",
       " 130,\n",
       " 112,\n",
       " 115,\n",
       " 118,\n",
       " 154,\n",
       " 109,\n",
       " 112,\n",
       " 136,\n",
       " 121,\n",
       " 121,\n",
       " 139,\n",
       " 115,\n",
       " 133,\n",
       " 160,\n",
       " 127,\n",
       " 133,\n",
       " 142,\n",
       " 109,\n",
       " 139,\n",
       " 133,\n",
       " 121,\n",
       " 100,\n",
       " 130,\n",
       " 145,\n",
       " 130,\n",
       " 103,\n",
       " 118,\n",
       " 115,\n",
       " 94,\n",
       " 124,\n",
       " 133,\n",
       " 136,\n",
       " 121,\n",
       " 85,\n",
       " 121,\n",
       " 103,\n",
       " 139,\n",
       " 124,\n",
       " 61,\n",
       " 106,\n",
       " 121,\n",
       " 124,\n",
       " 127,\n",
       " 118,\n",
       " 130,\n",
       " 154,\n",
       " 142,\n",
       " 130,\n",
       " 124,\n",
       " 157,\n",
       " 124,\n",
       " 127,\n",
       " 133,\n",
       " 133,\n",
       " 130,\n",
       " 199,\n",
       " 127,\n",
       " 121,\n",
       " 127,\n",
       " 139,\n",
       " 121,\n",
       " 118,\n",
       " 124,\n",
       " 112,\n",
       " 160,\n",
       " 127,\n",
       " 139,\n",
       " 124,\n",
       " 118,\n",
       " 115,\n",
       " 127,\n",
       " 118,\n",
       " 115,\n",
       " 130,\n",
       " 160,\n",
       " 103,\n",
       " 151,\n",
       " 118,\n",
       " 109,\n",
       " 118,\n",
       " 103,\n",
       " 121,\n",
       " 130,\n",
       " 127,\n",
       " 121,\n",
       " 103,\n",
       " 130,\n",
       " ...]"
      ]
     },
     "execution_count": 29,
     "metadata": {},
     "output_type": "execute_result"
    }
   ],
   "source": [
    "dim1     #all of them are of different dimensions. same with dim2"
   ]
  },
  {
   "cell_type": "code",
   "execution_count": 30,
   "id": "72b020ef",
   "metadata": {},
   "outputs": [
    {
     "name": "stderr",
     "output_type": "stream",
     "text": [
      "C:\\Users\\hp\\Anaconda3\\lib\\site-packages\\seaborn\\_decorators.py:43: FutureWarning: Pass the following variables as keyword args: x, y. From version 0.12, the only valid positional argument will be `data`, and passing other arguments without an explicit keyword will result in an error or misinterpretation.\n",
      "  FutureWarning\n"
     ]
    },
    {
     "data": {
      "text/plain": [
       "<seaborn.axisgrid.JointGrid at 0x162ab5a0f88>"
      ]
     },
     "execution_count": 30,
     "metadata": {},
     "output_type": "execute_result"
    },
    {
     "data": {
      "image/png": "[encoded data removed]",
      "text/plain": [
       "<Figure size 432x432 with 3 Axes>"
      ]
     },
     "metadata": {
      "needs_background": "light"
     },
     "output_type": "display_data"
    }
   ],
   "source": [
    "sns.jointplot(dim1,dim2)"
   ]
  },
  {
   "cell_type": "code",
   "execution_count": 31,
   "id": "5d80c720",
   "metadata": {},
   "outputs": [],
   "source": [
    "#the convolutional neural network isn't going to be able to train on images of various sizes. So what we need to do is to make\n",
    "#sure that we are going to resize all the images to be the same size. So we have to choose what actual dimensions should we \n",
    "#resize everything to.\n",
    "#And what we should choose is essentially the average of both the dimensions. The above jointplot indicates the avg distribution\n",
    "#of both the dimensions and they are all centred around 130*130."
   ]
  },
  {
   "cell_type": "code",
   "execution_count": 32,
   "id": "7eece640",
   "metadata": {},
   "outputs": [
    {
     "data": {
      "text/plain": [
       "130.92538461538462"
      ]
     },
     "execution_count": 32,
     "metadata": {},
     "output_type": "execute_result"
    }
   ],
   "source": [
    "np.mean(dim1)"
   ]
  },
  {
   "cell_type": "code",
   "execution_count": 33,
   "id": "c57e7611",
   "metadata": {},
   "outputs": [
    {
     "data": {
      "text/plain": [
       "130.75"
      ]
     },
     "execution_count": 33,
     "metadata": {},
     "output_type": "execute_result"
    }
   ],
   "source": [
    "np.mean(dim2)"
   ]
  },
  {
   "cell_type": "code",
   "execution_count": 34,
   "id": "6734ac86",
   "metadata": {},
   "outputs": [],
   "source": [
    "#so what we are going to do is we will say our final shape that we will be feeding in our convolutional network is (130,130,3)\n",
    "image_shape=(130,130,3)\n",
    "#later when we are preparing our model we will resize everything to these dimensions.\n",
    "#Smaller photo -->Padding\n",
    "#Larger Photo --> crop or shrink"
   ]
  },
  {
   "cell_type": "code",
   "execution_count": 35,
   "id": "eb633f75",
   "metadata": {},
   "outputs": [],
   "source": [
    "#manipulating images"
   ]
  },
  {
   "cell_type": "code",
   "execution_count": 36,
   "id": "4674ef87",
   "metadata": {},
   "outputs": [
    {
     "data": {
      "text/plain": [
       "50700"
      ]
     },
     "execution_count": 36,
     "metadata": {},
     "output_type": "execute_result"
    }
   ],
   "source": [
    "#our files are going to be very large when we are going to read them\n",
    "130*130*3"
   ]
  },
  {
   "cell_type": "code",
   "execution_count": 37,
   "id": "f64255d5",
   "metadata": {},
   "outputs": [],
   "source": [
    "#so now we will be dealing with 50700 datapoints, because of that we are not gonna be able to just feed in everything at once\n",
    "#instead we will have to select the batches of our images"
   ]
  },
  {
   "cell_type": "code",
   "execution_count": 38,
   "id": "e7d9ce26",
   "metadata": {},
   "outputs": [],
   "source": [
    "from tensorflow.keras.preprocessing.image import ImageDataGenerator "
   ]
  },
  {
   "cell_type": "code",
   "execution_count": 39,
   "id": "efa7c2da",
   "metadata": {},
   "outputs": [
    {
     "name": "stdout",
     "output_type": "stream",
     "text": [
      "Help on class ImageDataGenerator in module tensorflow.python.keras.preprocessing.image:\n",
      "\n",
      "class ImageDataGenerator(keras_preprocessing.image.image_data_generator.ImageDataGenerator)\n",
      " |  ImageDataGenerator(featurewise_center=False, samplewise_center=False, featurewise_std_normalization=False, samplewise_std_normalization=False, zca_whitening=False, zca_epsilon=1e-06, rotation_range=0, width_shift_range=0.0, height_shift_range=0.0, brightness_range=None, shear_range=0.0, zoom_range=0.0, channel_shift_range=0.0, fill_mode='nearest', cval=0.0, horizontal_flip=False, vertical_flip=False, rescale=None, preprocessing_function=None, data_format=None, validation_split=0.0, dtype=None)\n",
      " |  \n",
      " |  Generate batches of tensor image data with real-time data augmentation.\n",
      " |  \n",
      " |   The data will be looped over (in batches).\n",
      " |  \n",
      " |  Arguments:\n",
      " |      featurewise_center: Boolean.\n",
      " |          Set input mean to 0 over the dataset, feature-wise.\n",
      " |      samplewise_center: Boolean. Set each sample mean to 0.\n",
      " |      featurewise_std_normalization: Boolean.\n",
      " |          Divide inputs by std of the dataset, feature-wise.\n",
      " |      samplewise_std_normalization: Boolean. Divide each input by its std.\n",
      " |      zca_epsilon: epsilon for ZCA whitening. Default is 1e-6.\n",
      " |      zca_whitening: Boolean. Apply ZCA whitening.\n",
      " |      rotation_range: Int. Degree range for random rotations.\n",
      " |      width_shift_range: Float, 1-D array-like or int\n",
      " |          - float: fraction of total width, if < 1, or pixels if >= 1.\n",
      " |          - 1-D array-like: random elements from the array.\n",
      " |          - int: integer number of pixels from interval\n",
      " |              `(-width_shift_range, +width_shift_range)`\n",
      " |          - With `width_shift_range=2` possible values\n",
      " |              are integers `[-1, 0, +1]`,\n",
      " |              same as with `width_shift_range=[-1, 0, +1]`,\n",
      " |              while with `width_shift_range=1.0` possible values are floats\n",
      " |              in the interval [-1.0, +1.0).\n",
      " |      height_shift_range: Float, 1-D array-like or int\n",
      " |          - float: fraction of total height, if < 1, or pixels if >= 1.\n",
      " |          - 1-D array-like: random elements from the array.\n",
      " |          - int: integer number of pixels from interval\n",
      " |              `(-height_shift_range, +height_shift_range)`\n",
      " |          - With `height_shift_range=2` possible values\n",
      " |              are integers `[-1, 0, +1]`,\n",
      " |              same as with `height_shift_range=[-1, 0, +1]`,\n",
      " |              while with `height_shift_range=1.0` possible values are floats\n",
      " |              in the interval [-1.0, +1.0).\n",
      " |      brightness_range: Tuple or list of two floats. Range for picking\n",
      " |          a brightness shift value from.\n",
      " |      shear_range: Float. Shear Intensity\n",
      " |          (Shear angle in counter-clockwise direction in degrees)\n",
      " |      zoom_range: Float or [lower, upper]. Range for random zoom.\n",
      " |          If a float, `[lower, upper] = [1-zoom_range, 1+zoom_range]`.\n",
      " |      channel_shift_range: Float. Range for random channel shifts.\n",
      " |      fill_mode: One of {\"constant\", \"nearest\", \"reflect\" or \"wrap\"}.\n",
      " |          Default is 'nearest'.\n",
      " |          Points outside the boundaries of the input are filled\n",
      " |          according to the given mode:\n",
      " |          - 'constant': kkkkkkkk|abcd|kkkkkkkk (cval=k)\n",
      " |          - 'nearest':  aaaaaaaa|abcd|dddddddd\n",
      " |          - 'reflect':  abcddcba|abcd|dcbaabcd\n",
      " |          - 'wrap':  abcdabcd|abcd|abcdabcd\n",
      " |      cval: Float or Int.\n",
      " |          Value used for points outside the boundaries\n",
      " |          when `fill_mode = \"constant\"`.\n",
      " |      horizontal_flip: Boolean. Randomly flip inputs horizontally.\n",
      " |      vertical_flip: Boolean. Randomly flip inputs vertically.\n",
      " |      rescale: rescaling factor. Defaults to None.\n",
      " |          If None or 0, no rescaling is applied,\n",
      " |          otherwise we multiply the data by the value provided\n",
      " |          (after applying all other transformations).\n",
      " |      preprocessing_function: function that will be applied on each input.\n",
      " |          The function will run after the image is resized and augmented.\n",
      " |          The function should take one argument:\n",
      " |          one image (Numpy tensor with rank 3),\n",
      " |          and should output a Numpy tensor with the same shape.\n",
      " |      data_format: Image data format,\n",
      " |          either \"channels_first\" or \"channels_last\".\n",
      " |          \"channels_last\" mode means that the images should have shape\n",
      " |          `(samples, height, width, channels)`,\n",
      " |          \"channels_first\" mode means that the images should have shape\n",
      " |          `(samples, channels, height, width)`.\n",
      " |          It defaults to the `image_data_format` value found in your\n",
      " |          Keras config file at `~/.keras/keras.json`.\n",
      " |          If you never set it, then it will be \"channels_last\".\n",
      " |      validation_split: Float. Fraction of images reserved for validation\n",
      " |          (strictly between 0 and 1).\n",
      " |      dtype: Dtype to use for the generated arrays.\n",
      " |  \n",
      " |  Examples:\n",
      " |  \n",
      " |  Example of using `.flow(x, y)`:\n",
      " |  \n",
      " |  ```python\n",
      " |  (x_train, y_train), (x_test, y_test) = cifar10.load_data()\n",
      " |  y_train = np_utils.to_categorical(y_train, num_classes)\n",
      " |  y_test = np_utils.to_categorical(y_test, num_classes)\n",
      " |  datagen = ImageDataGenerator(\n",
      " |      featurewise_center=True,\n",
      " |      featurewise_std_normalization=True,\n",
      " |      rotation_range=20,\n",
      " |      width_shift_range=0.2,\n",
      " |      height_shift_range=0.2,\n",
      " |      horizontal_flip=True)\n",
      " |  # compute quantities required for featurewise normalization\n",
      " |  # (std, mean, and principal components if ZCA whitening is applied)\n",
      " |  datagen.fit(x_train)\n",
      " |  # fits the model on batches with real-time data augmentation:\n",
      " |  model.fit_generator(datagen.flow(x_train, y_train, batch_size=32),\n",
      " |                      steps_per_epoch=len(x_train) / 32, epochs=epochs)\n",
      " |  # here's a more \"manual\" example\n",
      " |  for e in range(epochs):\n",
      " |      print('Epoch', e)\n",
      " |      batches = 0\n",
      " |      for x_batch, y_batch in datagen.flow(x_train, y_train, batch_size=32):\n",
      " |          model.fit(x_batch, y_batch)\n",
      " |          batches += 1\n",
      " |          if batches >= len(x_train) / 32:\n",
      " |              # we need to break the loop by hand because\n",
      " |              # the generator loops indefinitely\n",
      " |              break\n",
      " |  ```\n",
      " |  \n",
      " |  Example of using `.flow_from_directory(directory)`:\n",
      " |  \n",
      " |  ```python\n",
      " |  train_datagen = ImageDataGenerator(\n",
      " |          rescale=1./255,\n",
      " |          shear_range=0.2,\n",
      " |          zoom_range=0.2,\n",
      " |          horizontal_flip=True)\n",
      " |  test_datagen = ImageDataGenerator(rescale=1./255)\n",
      " |  train_generator = train_datagen.flow_from_directory(\n",
      " |          'data/train',\n",
      " |          target_size=(150, 150),\n",
      " |          batch_size=32,\n",
      " |          class_mode='binary')\n",
      " |  validation_generator = test_datagen.flow_from_directory(\n",
      " |          'data/validation',\n",
      " |          target_size=(150, 150),\n",
      " |          batch_size=32,\n",
      " |          class_mode='binary')\n",
      " |  model.fit_generator(\n",
      " |          train_generator,\n",
      " |          steps_per_epoch=2000,\n",
      " |          epochs=50,\n",
      " |          validation_data=validation_generator,\n",
      " |          validation_steps=800)\n",
      " |  ```\n",
      " |  \n",
      " |  Example of transforming images and masks together.\n",
      " |  \n",
      " |  ```python\n",
      " |  # we create two instances with the same arguments\n",
      " |  data_gen_args = dict(featurewise_center=True,\n",
      " |                       featurewise_std_normalization=True,\n",
      " |                       rotation_range=90,\n",
      " |                       width_shift_range=0.1,\n",
      " |                       height_shift_range=0.1,\n",
      " |                       zoom_range=0.2)\n",
      " |  image_datagen = ImageDataGenerator(**data_gen_args)\n",
      " |  mask_datagen = ImageDataGenerator(**data_gen_args)\n",
      " |  # Provide the same seed and keyword arguments to the fit and flow methods\n",
      " |  seed = 1\n",
      " |  image_datagen.fit(images, augment=True, seed=seed)\n",
      " |  mask_datagen.fit(masks, augment=True, seed=seed)\n",
      " |  image_generator = image_datagen.flow_from_directory(\n",
      " |      'data/images',\n",
      " |      class_mode=None,\n",
      " |      seed=seed)\n",
      " |  mask_generator = mask_datagen.flow_from_directory(\n",
      " |      'data/masks',\n",
      " |      class_mode=None,\n",
      " |      seed=seed)\n",
      " |  # combine generators into one which yields image and masks\n",
      " |  train_generator = zip(image_generator, mask_generator)\n",
      " |  model.fit_generator(\n",
      " |      train_generator,\n",
      " |      steps_per_epoch=2000,\n",
      " |      epochs=50)\n",
      " |  ```\n",
      " |  \n",
      " |  Method resolution order:\n",
      " |      ImageDataGenerator\n",
      " |      keras_preprocessing.image.image_data_generator.ImageDataGenerator\n",
      " |      builtins.object\n",
      " |  \n",
      " |  Methods defined here:\n",
      " |  \n",
      " |  __init__(self, featurewise_center=False, samplewise_center=False, featurewise_std_normalization=False, samplewise_std_normalization=False, zca_whitening=False, zca_epsilon=1e-06, rotation_range=0, width_shift_range=0.0, height_shift_range=0.0, brightness_range=None, shear_range=0.0, zoom_range=0.0, channel_shift_range=0.0, fill_mode='nearest', cval=0.0, horizontal_flip=False, vertical_flip=False, rescale=None, preprocessing_function=None, data_format=None, validation_split=0.0, dtype=None)\n",
      " |      Initialize self.  See help(type(self)) for accurate signature.\n",
      " |  \n",
      " |  ----------------------------------------------------------------------\n",
      " |  Methods inherited from keras_preprocessing.image.image_data_generator.ImageDataGenerator:\n",
      " |  \n",
      " |  apply_transform(self, x, transform_parameters)\n",
      " |      Applies a transformation to an image according to given parameters.\n",
      " |      \n",
      " |      # Arguments\n",
      " |          x: 3D tensor, single image.\n",
      " |          transform_parameters: Dictionary with string - parameter pairs\n",
      " |              describing the transformation.\n",
      " |              Currently, the following parameters\n",
      " |              from the dictionary are used:\n",
      " |              - `'theta'`: Float. Rotation angle in degrees.\n",
      " |              - `'tx'`: Float. Shift in the x direction.\n",
      " |              - `'ty'`: Float. Shift in the y direction.\n",
      " |              - `'shear'`: Float. Shear angle in degrees.\n",
      " |              - `'zx'`: Float. Zoom in the x direction.\n",
      " |              - `'zy'`: Float. Zoom in the y direction.\n",
      " |              - `'flip_horizontal'`: Boolean. Horizontal flip.\n",
      " |              - `'flip_vertical'`: Boolean. Vertical flip.\n",
      " |              - `'channel_shift_intensity'`: Float. Channel shift intensity.\n",
      " |              - `'brightness'`: Float. Brightness shift intensity.\n",
      " |      \n",
      " |      # Returns\n",
      " |          A transformed version of the input (same shape).\n",
      " |  \n",
      " |  fit(self, x, augment=False, rounds=1, seed=None)\n",
      " |      Fits the data generator to some sample data.\n",
      " |      \n",
      " |      This computes the internal data stats related to the\n",
      " |      data-dependent transformations, based on an array of sample data.\n",
      " |      \n",
      " |      Only required if `featurewise_center` or\n",
      " |      `featurewise_std_normalization` or `zca_whitening` are set to True.\n",
      " |      \n",
      " |      When `rescale` is set to a value, rescaling is applied to\n",
      " |      sample data before computing the internal data stats.\n",
      " |      \n",
      " |      # Arguments\n",
      " |          x: Sample data. Should have rank 4.\n",
      " |           In case of grayscale data,\n",
      " |           the channels axis should have value 1, in case\n",
      " |           of RGB data, it should have value 3, and in case\n",
      " |           of RGBA data, it should have value 4.\n",
      " |          augment: Boolean (default: False).\n",
      " |              Whether to fit on randomly augmented samples.\n",
      " |          rounds: Int (default: 1).\n",
      " |              If using data augmentation (`augment=True`),\n",
      " |              this is how many augmentation passes over the data to use.\n",
      " |          seed: Int (default: None). Random seed.\n",
      " |  \n",
      " |  flow(self, x, y=None, batch_size=32, shuffle=True, sample_weight=None, seed=None, save_to_dir=None, save_prefix='', save_format='png', subset=None)\n",
      " |      Takes data & label arrays, generates batches of augmented data.\n",
      " |      \n",
      " |      # Arguments\n",
      " |          x: Input data. NumPy array of rank 4 or a tuple.\n",
      " |              If tuple, the first element\n",
      " |              should contain the images and the second element\n",
      " |              another NumPy array or a list of NumPy arrays\n",
      " |              that gets passed to the output\n",
      " |              without any modifications.\n",
      " |              Can be used to feed the model miscellaneous data\n",
      " |              along with the images.\n",
      " |              In case of grayscale data, the channels axis of the image array\n",
      " |              should have value 1, in case\n",
      " |              of RGB data, it should have value 3, and in case\n",
      " |              of RGBA data, it should have value 4.\n",
      " |          y: Labels.\n",
      " |          batch_size: Int (default: 32).\n",
      " |          shuffle: Boolean (default: True).\n",
      " |          sample_weight: Sample weights.\n",
      " |          seed: Int (default: None).\n",
      " |          save_to_dir: None or str (default: None).\n",
      " |              This allows you to optionally specify a directory\n",
      " |              to which to save the augmented pictures being generated\n",
      " |              (useful for visualizing what you are doing).\n",
      " |          save_prefix: Str (default: `''`).\n",
      " |              Prefix to use for filenames of saved pictures\n",
      " |              (only relevant if `save_to_dir` is set).\n",
      " |          save_format: one of \"png\", \"jpeg\"\n",
      " |              (only relevant if `save_to_dir` is set). Default: \"png\".\n",
      " |          subset: Subset of data (`\"training\"` or `\"validation\"`) if\n",
      " |              `validation_split` is set in `ImageDataGenerator`.\n",
      " |      \n",
      " |      # Returns\n",
      " |          An `Iterator` yielding tuples of `(x, y)`\n",
      " |              where `x` is a NumPy array of image data\n",
      " |              (in the case of a single image input) or a list\n",
      " |              of NumPy arrays (in the case with\n",
      " |              additional inputs) and `y` is a NumPy array\n",
      " |              of corresponding labels. If 'sample_weight' is not None,\n",
      " |              the yielded tuples are of the form `(x, y, sample_weight)`.\n",
      " |              If `y` is None, only the NumPy array `x` is returned.\n",
      " |  \n",
      " |  flow_from_dataframe(self, dataframe, directory=None, x_col='filename', y_col='class', weight_col=None, target_size=(256, 256), color_mode='rgb', classes=None, class_mode='categorical', batch_size=32, shuffle=True, seed=None, save_to_dir=None, save_prefix='', save_format='png', subset=None, interpolation='nearest', validate_filenames=True, **kwargs)\n",
      " |      Takes the dataframe and the path to a directory\n",
      " |       and generates batches of augmented/normalized data.\n",
      " |      \n",
      " |      **A simple tutorial can be found **[here](\n",
      " |                                  http://bit.ly/keras_flow_from_dataframe).\n",
      " |      \n",
      " |      # Arguments\n",
      " |          dataframe: Pandas dataframe containing the filepaths relative to\n",
      " |              `directory` (or absolute paths if `directory` is None) of the\n",
      " |              images in a string column. It should include other column/s\n",
      " |              depending on the `class_mode`:\n",
      " |              - if `class_mode` is `\"categorical\"` (default value) it must\n",
      " |                  include the `y_col` column with the class/es of each image.\n",
      " |                  Values in column can be string/list/tuple if a single class\n",
      " |                  or list/tuple if multiple classes.\n",
      " |              - if `class_mode` is `\"binary\"` or `\"sparse\"` it must include\n",
      " |                  the given `y_col` column with class values as strings.\n",
      " |              - if `class_mode` is `\"raw\"` or `\"multi_output\"` it should contain\n",
      " |              the columns specified in `y_col`.\n",
      " |              - if `class_mode` is `\"input\"` or `None` no extra column is needed.\n",
      " |          directory: string, path to the directory to read images from. If `None`,\n",
      " |              data in `x_col` column should be absolute paths.\n",
      " |          x_col: string, column in `dataframe` that contains the filenames (or\n",
      " |              absolute paths if `directory` is `None`).\n",
      " |          y_col: string or list, column/s in `dataframe` that has the target data.\n",
      " |          weight_col: string, column in `dataframe` that contains the sample\n",
      " |              weights. Default: `None`.\n",
      " |          target_size: tuple of integers `(height, width)`, default: `(256, 256)`.\n",
      " |              The dimensions to which all images found will be resized.\n",
      " |          color_mode: one of \"grayscale\", \"rgb\", \"rgba\". Default: \"rgb\".\n",
      " |              Whether the images will be converted to have 1 or 3 color channels.\n",
      " |          classes: optional list of classes (e.g. `['dogs', 'cats']`).\n",
      " |              Default: None. If not provided, the list of classes will be\n",
      " |              automatically inferred from the `y_col`,\n",
      " |              which will map to the label indices, will be alphanumeric).\n",
      " |              The dictionary containing the mapping from class names to class\n",
      " |              indices can be obtained via the attribute `class_indices`.\n",
      " |          class_mode: one of \"binary\", \"categorical\", \"input\", \"multi_output\",\n",
      " |              \"raw\", sparse\" or None. Default: \"categorical\".\n",
      " |              Mode for yielding the targets:\n",
      " |              - `\"binary\"`: 1D NumPy array of binary labels,\n",
      " |              - `\"categorical\"`: 2D NumPy array of one-hot encoded labels.\n",
      " |                  Supports multi-label output.\n",
      " |              - `\"input\"`: images identical to input images (mainly used to\n",
      " |                  work with autoencoders),\n",
      " |              - `\"multi_output\"`: list with the values of the different columns,\n",
      " |              - `\"raw\"`: NumPy array of values in `y_col` column(s),\n",
      " |              - `\"sparse\"`: 1D NumPy array of integer labels,\n",
      " |              - `None`, no targets are returned (the generator will only yield\n",
      " |                  batches of image data, which is useful to use in\n",
      " |                  `model.predict_generator()`).\n",
      " |          batch_size: size of the batches of data (default: 32).\n",
      " |          shuffle: whether to shuffle the data (default: True)\n",
      " |          seed: optional random seed for shuffling and transformations.\n",
      " |          save_to_dir: None or str (default: None).\n",
      " |              This allows you to optionally specify a directory\n",
      " |              to which to save the augmented pictures being generated\n",
      " |              (useful for visualizing what you are doing).\n",
      " |          save_prefix: str. Prefix to use for filenames of saved pictures\n",
      " |              (only relevant if `save_to_dir` is set).\n",
      " |          save_format: one of \"png\", \"jpeg\"\n",
      " |              (only relevant if `save_to_dir` is set). Default: \"png\".\n",
      " |          follow_links: whether to follow symlinks inside class subdirectories\n",
      " |              (default: False).\n",
      " |          subset: Subset of data (`\"training\"` or `\"validation\"`) if\n",
      " |              `validation_split` is set in `ImageDataGenerator`.\n",
      " |          interpolation: Interpolation method used to resample the image if the\n",
      " |              target size is different from that of the loaded image.\n",
      " |              Supported methods are `\"nearest\"`, `\"bilinear\"`, and `\"bicubic\"`.\n",
      " |              If PIL version 1.1.3 or newer is installed, `\"lanczos\"` is also\n",
      " |              supported. If PIL version 3.4.0 or newer is installed, `\"box\"` and\n",
      " |              `\"hamming\"` are also supported. By default, `\"nearest\"` is used.\n",
      " |          validate_filenames: Boolean, whether to validate image filenames in\n",
      " |              `x_col`. If `True`, invalid images will be ignored. Disabling this\n",
      " |              option can lead to speed-up in the execution of this function.\n",
      " |              Default: `True`.\n",
      " |      \n",
      " |      # Returns\n",
      " |          A `DataFrameIterator` yielding tuples of `(x, y)`\n",
      " |          where `x` is a NumPy array containing a batch\n",
      " |          of images with shape `(batch_size, *target_size, channels)`\n",
      " |          and `y` is a NumPy array of corresponding labels.\n",
      " |  \n",
      " |  flow_from_directory(self, directory, target_size=(256, 256), color_mode='rgb', classes=None, class_mode='categorical', batch_size=32, shuffle=True, seed=None, save_to_dir=None, save_prefix='', save_format='png', follow_links=False, subset=None, interpolation='nearest')\n",
      " |      Takes the path to a directory & generates batches of augmented data.\n",
      " |      \n",
      " |      # Arguments\n",
      " |          directory: string, path to the target directory.\n",
      " |              It should contain one subdirectory per class.\n",
      " |              Any PNG, JPG, BMP, PPM or TIF images\n",
      " |              inside each of the subdirectories directory tree\n",
      " |              will be included in the generator.\n",
      " |              See [this script](\n",
      " |              https://gist.github.com/fchollet/0830affa1f7f19fd47b06d4cf89ed44d)\n",
      " |              for more details.\n",
      " |          target_size: Tuple of integers `(height, width)`,\n",
      " |              default: `(256, 256)`.\n",
      " |              The dimensions to which all images found will be resized.\n",
      " |          color_mode: One of \"grayscale\", \"rgb\", \"rgba\". Default: \"rgb\".\n",
      " |              Whether the images will be converted to\n",
      " |              have 1, 3, or 4 channels.\n",
      " |          classes: Optional list of class subdirectories\n",
      " |              (e.g. `['dogs', 'cats']`). Default: None.\n",
      " |              If not provided, the list of classes will be automatically\n",
      " |              inferred from the subdirectory names/structure\n",
      " |              under `directory`, where each subdirectory will\n",
      " |              be treated as a different class\n",
      " |              (and the order of the classes, which will map to the label\n",
      " |              indices, will be alphanumeric).\n",
      " |              The dictionary containing the mapping from class names to class\n",
      " |              indices can be obtained via the attribute `class_indices`.\n",
      " |          class_mode: One of \"categorical\", \"binary\", \"sparse\",\n",
      " |              \"input\", or None. Default: \"categorical\".\n",
      " |              Determines the type of label arrays that are returned:\n",
      " |              - \"categorical\" will be 2D one-hot encoded labels,\n",
      " |              - \"binary\" will be 1D binary labels,\n",
      " |                  \"sparse\" will be 1D integer labels,\n",
      " |              - \"input\" will be images identical\n",
      " |                  to input images (mainly used to work with autoencoders).\n",
      " |              - If None, no labels are returned\n",
      " |                (the generator will only yield batches of image data,\n",
      " |                which is useful to use with `model.predict_generator()`).\n",
      " |                Please note that in case of class_mode None,\n",
      " |                the data still needs to reside in a subdirectory\n",
      " |                of `directory` for it to work correctly.\n",
      " |          batch_size: Size of the batches of data (default: 32).\n",
      " |          shuffle: Whether to shuffle the data (default: True)\n",
      " |              If set to False, sorts the data in alphanumeric order.\n",
      " |          seed: Optional random seed for shuffling and transformations.\n",
      " |          save_to_dir: None or str (default: None).\n",
      " |              This allows you to optionally specify\n",
      " |              a directory to which to save\n",
      " |              the augmented pictures being generated\n",
      " |              (useful for visualizing what you are doing).\n",
      " |          save_prefix: Str. Prefix to use for filenames of saved pictures\n",
      " |              (only relevant if `save_to_dir` is set).\n",
      " |          save_format: One of \"png\", \"jpeg\"\n",
      " |              (only relevant if `save_to_dir` is set). Default: \"png\".\n",
      " |          follow_links: Whether to follow symlinks inside\n",
      " |              class subdirectories (default: False).\n",
      " |          subset: Subset of data (`\"training\"` or `\"validation\"`) if\n",
      " |              `validation_split` is set in `ImageDataGenerator`.\n",
      " |          interpolation: Interpolation method used to\n",
      " |              resample the image if the\n",
      " |              target size is different from that of the loaded image.\n",
      " |              Supported methods are `\"nearest\"`, `\"bilinear\"`,\n",
      " |              and `\"bicubic\"`.\n",
      " |              If PIL version 1.1.3 or newer is installed, `\"lanczos\"` is also\n",
      " |              supported. If PIL version 3.4.0 or newer is installed,\n",
      " |              `\"box\"` and `\"hamming\"` are also supported.\n",
      " |              By default, `\"nearest\"` is used.\n",
      " |      \n",
      " |      # Returns\n",
      " |          A `DirectoryIterator` yielding tuples of `(x, y)`\n",
      " |              where `x` is a NumPy array containing a batch\n",
      " |              of images with shape `(batch_size, *target_size, channels)`\n",
      " |              and `y` is a NumPy array of corresponding labels.\n",
      " |  \n",
      " |  get_random_transform(self, img_shape, seed=None)\n",
      " |      Generates random parameters for a transformation.\n",
      " |      \n",
      " |      # Arguments\n",
      " |          seed: Random seed.\n",
      " |          img_shape: Tuple of integers.\n",
      " |              Shape of the image that is transformed.\n",
      " |      \n",
      " |      # Returns\n",
      " |          A dictionary containing randomly chosen parameters describing the\n",
      " |          transformation.\n",
      " |  \n",
      " |  random_transform(self, x, seed=None)\n",
      " |      Applies a random transformation to an image.\n",
      " |      \n",
      " |      # Arguments\n",
      " |          x: 3D tensor, single image.\n",
      " |          seed: Random seed.\n",
      " |      \n",
      " |      # Returns\n",
      " |          A randomly transformed version of the input (same shape).\n",
      " |  \n",
      " |  standardize(self, x)\n",
      " |      Applies the normalization configuration in-place to a batch of inputs.\n",
      " |      \n",
      " |      `x` is changed in-place since the function is mainly used internally\n",
      " |      to standardize images and feed them to your network. If a copy of `x`\n",
      " |      would be created instead it would have a significant performance cost.\n",
      " |      If you want to apply this method without changing the input in-place\n",
      " |      you can call the method creating a copy before:\n",
      " |      \n",
      " |      standardize(np.copy(x))\n",
      " |      \n",
      " |      # Arguments\n",
      " |          x: Batch of inputs to be normalized.\n",
      " |      \n",
      " |      # Returns\n",
      " |          The inputs, normalized.\n",
      " |  \n",
      " |  ----------------------------------------------------------------------\n",
      " |  Data descriptors inherited from keras_preprocessing.image.image_data_generator.ImageDataGenerator:\n",
      " |  \n",
      " |  __dict__\n",
      " |      dictionary for instance variables (if defined)\n",
      " |  \n",
      " |  __weakref__\n",
      " |      list of weak references to the object (if defined)\n",
      "\n"
     ]
    }
   ],
   "source": [
    "help(ImageDataGenerator)"
   ]
  },
  {
   "cell_type": "code",
   "execution_count": 40,
   "id": "0037a28d",
   "metadata": {},
   "outputs": [
    {
     "data": {
      "text/plain": [
       "0.9098039"
      ]
     },
     "execution_count": 40,
     "metadata": {},
     "output_type": "execute_result"
    }
   ],
   "source": [
    "imread(para_cell).max()\n",
    "#the images are already scaled so we don't need to normalize anything in the instance of imagedatagenerator. If it wasn't the\n",
    "#case we would have done 1/255"
   ]
  },
  {
   "cell_type": "code",
   "execution_count": 41,
   "id": "75585ba7",
   "metadata": {},
   "outputs": [],
   "source": [
    "#Mnist dataset was 60000 images. Our cell dataset is less than 3o thousand images. So, we want to be able is to expand the \n",
    "#amount of images without having to gather more data. We can't just keep grabbing blood cells from people. So what we can do\n",
    "#is do things like take our current images and randomly rotate them.\n",
    "image_gen=ImageDataGenerator(rotation_range=20,\n",
    "                            width_shift_range=0.1,\n",
    "                            height_shift_range=0.1,\n",
    "                            shear_range=0.1,\n",
    "                            zoom_range=0.1,\n",
    "                            horizontal_flip=True,\n",
    "                            fill_mode='nearest')"
   ]
  },
  {
   "cell_type": "code",
   "execution_count": 42,
   "id": "565bc691",
   "metadata": {},
   "outputs": [
    {
     "data": {
      "text/plain": [
       "<matplotlib.image.AxesImage at 0x162b1583988>"
      ]
     },
     "execution_count": 42,
     "metadata": {},
     "output_type": "execute_result"
    },
    {
     "data": {
      "image/png": "[encoded data removed]",
      "text/plain": [
       "<Figure size 432x288 with 1 Axes>"
      ]
     },
     "metadata": {
      "needs_background": "light"
     },
     "output_type": "display_data"
    }
   ],
   "source": [
    "para_img=imread(para_cell)\n",
    "plt.imshow(para_img)"
   ]
  },
  {
   "cell_type": "code",
   "execution_count": 43,
   "id": "7de115b7",
   "metadata": {
    "scrolled": true
   },
   "outputs": [
    {
     "data": {
      "text/plain": [
       "<matplotlib.image.AxesImage at 0x162b1657848>"
      ]
     },
     "execution_count": 43,
     "metadata": {},
     "output_type": "execute_result"
    },
    {
     "data": {
      "image/png": "[encoded data removed]",
      "text/plain": [
       "<Figure size 432x288 with 1 Axes>"
      ]
     },
     "metadata": {
      "needs_background": "light"
     },
     "output_type": "display_data"
    }
   ],
   "source": [
    "plt.imshow(image_gen.random_transform(para_img))"
   ]
  },
  {
   "cell_type": "code",
   "execution_count": 44,
   "id": "a7fba844",
   "metadata": {},
   "outputs": [],
   "source": [
    "#now since we can randomly transform images, we can essentially augment our dataset. We are no longer restricted to just the \n",
    "#single image from the cell, we can randomly transform it many times over. So if we keep running the above cell we will keep\n",
    "#running more and more random transformations. And this is a way of artificially expanding our image dataset.\n",
    "#So ImageDataGenerator is a very powerful tool that we have to keep in mind when we are dealing with kind of smaller datasets\n",
    "#And when it comes to CNN it takes thousands and thousands of images to get something that performs really well"
   ]
  },
  {
   "cell_type": "code",
   "execution_count": 45,
   "id": "21f48a8c",
   "metadata": {},
   "outputs": [
    {
     "data": {
      "text/plain": [
       "'C:/Users/hp/Desktop/cell_images/train/'"
      ]
     },
     "execution_count": 45,
     "metadata": {},
     "output_type": "execute_result"
    }
   ],
   "source": [
    "train_path"
   ]
  },
  {
   "cell_type": "code",
   "execution_count": 46,
   "id": "46441c01",
   "metadata": {},
   "outputs": [
    {
     "name": "stdout",
     "output_type": "stream",
     "text": [
      "Found 24958 images belonging to 2 classes.\n"
     ]
    },
    {
     "data": {
      "text/plain": [
       "<keras_preprocessing.image.directory_iterator.DirectoryIterator at 0x162b1624d88>"
      ]
     },
     "execution_count": 46,
     "metadata": {},
     "output_type": "execute_result"
    }
   ],
   "source": [
    "#so now we actually set up our directories to flow batches from a directory\n",
    "image_gen.flow_from_directory(train_path)\n",
    "#how does flow form directory knows images and total classes. In order to use it, we must organize the images in subdirectories\n",
    "#This is an absolute requirement, otherwise the method won't work. The directory should only contain images of one class,\n",
    "#so one folder per class of images. (google for more)"
   ]
  },
  {
   "cell_type": "code",
   "execution_count": 48,
   "id": "fba03ead",
   "metadata": {},
   "outputs": [
    {
     "data": {
      "text/plain": [
       "['parasitized', 'uninfected']"
      ]
     },
     "execution_count": 48,
     "metadata": {},
     "output_type": "execute_result"
    }
   ],
   "source": [
    "os.listdir(train_path)\n",
    "#we have 1 folder per class insider train path. This is a condition for flow from directory to work"
   ]
  },
  {
   "cell_type": "code",
   "execution_count": 49,
   "id": "09513452",
   "metadata": {},
   "outputs": [
    {
     "name": "stdout",
     "output_type": "stream",
     "text": [
      "Found 2600 images belonging to 2 classes.\n"
     ]
    },
    {
     "data": {
      "text/plain": [
       "<keras_preprocessing.image.directory_iterator.DirectoryIterator at 0x162b301be08>"
      ]
     },
     "execution_count": 49,
     "metadata": {},
     "output_type": "execute_result"
    }
   ],
   "source": [
    "image_gen.flow_from_directory(test_path)"
   ]
  },
  {
   "cell_type": "code",
   "execution_count": 52,
   "id": "0de38417",
   "metadata": {},
   "outputs": [],
   "source": [
    "from tensorflow.keras.models import Sequential\n",
    "from tensorflow.keras.layers import Dense, Conv2D, MaxPool2D, Dropout,Flatten"
   ]
  },
  {
   "cell_type": "code",
   "execution_count": 53,
   "id": "2da0c626",
   "metadata": {},
   "outputs": [],
   "source": [
    "model=Sequential()\n",
    "\n",
    "model.add(Conv2D(filters=32,kernel_size=(3,3),input_shape=image_shape,activation='relu'))\n",
    "model.add(MaxPool2D(pool_size=(2,2)))\n",
    "\n",
    "#the larger the image sizes and more complex of a task we are dealing with the more convolutional layers that we should have\n",
    "#check stack overflow for rules for selecting number of conv layers\n",
    "#https://stats.stackexchange.com/questions/148139/rules-for-selecting-convolutional-neural-network-hyperparameters\n",
    "#https://stackoverflow.com/questions/60390707/how-to-choose-the-number-of-convolution-layers-and-filters-in-cnn\n",
    "model.add(Conv2D(filters=64,kernel_size=(3,3),input_shape=image_shape,activation='relu'))\n",
    "model.add(MaxPool2D(pool_size=(2,2)))\n",
    "\n",
    "model.add(Conv2D(filters=64,kernel_size=(3,3),input_shape=image_shape,activation='relu'))\n",
    "model.add(MaxPool2D(pool_size=(2,2)))\n",
    "\n",
    "model.add(Flatten())    #converting 2D image features to 1D\n",
    "\n",
    "model.add(Dense(128,activation='relu'))\n",
    "model.add(Dropout(0.5))\n",
    "\n",
    "model.add(Dense(1,activation='sigmoid'))\n",
    "\n",
    "model.compile(loss='binary_crossentropy',optimizer='adam',metrics=['accuracy'])"
   ]
  },
  {
   "cell_type": "code",
   "execution_count": 54,
   "id": "e8672c4a",
   "metadata": {},
   "outputs": [
    {
     "name": "stdout",
     "output_type": "stream",
     "text": [
      "Model: \"sequential\"\n",
      "_________________________________________________________________\n",
      "Layer (type)                 Output Shape              Param #   \n",
      "=================================================================\n",
      "conv2d (Conv2D)              (None, 128, 128, 32)      896       \n",
      "_________________________________________________________________\n",
      "max_pooling2d (MaxPooling2D) (None, 64, 64, 32)        0         \n",
      "_________________________________________________________________\n",
      "conv2d_1 (Conv2D)            (None, 62, 62, 64)        18496     \n",
      "_________________________________________________________________\n",
      "max_pooling2d_1 (MaxPooling2 (None, 31, 31, 64)        0         \n",
      "_________________________________________________________________\n",
      "conv2d_2 (Conv2D)            (None, 29, 29, 64)        36928     \n",
      "_________________________________________________________________\n",
      "max_pooling2d_2 (MaxPooling2 (None, 14, 14, 64)        0         \n",
      "_________________________________________________________________\n",
      "flatten (Flatten)            (None, 12544)             0         \n",
      "_________________________________________________________________\n",
      "dense (Dense)                (None, 128)               1605760   \n",
      "_________________________________________________________________\n",
      "dropout (Dropout)            (None, 128)               0         \n",
      "_________________________________________________________________\n",
      "dense_1 (Dense)              (None, 1)                 129       \n",
      "=================================================================\n",
      "Total params: 1,662,209\n",
      "Trainable params: 1,662,209\n",
      "Non-trainable params: 0\n",
      "_________________________________________________________________\n"
     ]
    }
   ],
   "source": [
    "model.summary()"
   ]
  },
  {
   "cell_type": "code",
   "execution_count": 55,
   "id": "7d1e85b0",
   "metadata": {},
   "outputs": [],
   "source": [
    "from tensorflow.keras.callbacks import EarlyStopping"
   ]
  },
  {
   "cell_type": "code",
   "execution_count": 56,
   "id": "38965946",
   "metadata": {},
   "outputs": [],
   "source": [
    "early_stop=EarlyStopping(monitor='val_loss',patience=2)"
   ]
  },
  {
   "cell_type": "code",
   "execution_count": 57,
   "id": "08c731f6",
   "metadata": {},
   "outputs": [],
   "source": [
    "batch_size=16"
   ]
  },
  {
   "cell_type": "code",
   "execution_count": 58,
   "id": "badc8e84",
   "metadata": {},
   "outputs": [
    {
     "data": {
      "text/plain": [
       "(130, 130, 3)"
      ]
     },
     "execution_count": 58,
     "metadata": {},
     "output_type": "execute_result"
    }
   ],
   "source": [
    "image_shape"
   ]
  },
  {
   "cell_type": "code",
   "execution_count": 59,
   "id": "bfbf0638",
   "metadata": {},
   "outputs": [
    {
     "data": {
      "text/plain": [
       "(130, 130)"
      ]
     },
     "execution_count": 59,
     "metadata": {},
     "output_type": "execute_result"
    }
   ],
   "source": [
    "image_shape[:2]"
   ]
  },
  {
   "cell_type": "code",
   "execution_count": 60,
   "id": "453e48e1",
   "metadata": {},
   "outputs": [
    {
     "name": "stdout",
     "output_type": "stream",
     "text": [
      "Found 24958 images belonging to 2 classes.\n"
     ]
    }
   ],
   "source": [
    "train_image_gen=image_gen.flow_from_directory(train_path,\n",
    "                                             target_size=image_shape[:2],\n",
    "                                             color_mode='rgb',\n",
    "                                             batch_size=batch_size,\n",
    "                                             class_mode='binary')"
   ]
  },
  {
   "cell_type": "code",
   "execution_count": 61,
   "id": "8d4e5c79",
   "metadata": {},
   "outputs": [
    {
     "name": "stdout",
     "output_type": "stream",
     "text": [
      "Found 2600 images belonging to 2 classes.\n"
     ]
    }
   ],
   "source": [
    "test_image_gen=image_gen.flow_from_directory(test_path,\n",
    "                                             target_size=image_shape[:2],\n",
    "                                             color_mode='rgb',\n",
    "                                             batch_size=batch_size,\n",
    "                                             class_mode='binary',\n",
    "                                            shuffle=False)"
   ]
  },
  {
   "cell_type": "code",
   "execution_count": 63,
   "id": "cd1ca098",
   "metadata": {},
   "outputs": [
    {
     "data": {
      "text/plain": [
       "{'parasitized': 0, 'uninfected': 1}"
      ]
     },
     "execution_count": 63,
     "metadata": {},
     "output_type": "execute_result"
    }
   ],
   "source": [
    "train_image_gen.class_indices"
   ]
  },
  {
   "cell_type": "code",
   "execution_count": 65,
   "id": "aaa80723",
   "metadata": {},
   "outputs": [
    {
     "name": "stdout",
     "output_type": "stream",
     "text": [
      "WARNING:tensorflow:sample_weight modes were coerced from\n",
      "  ...\n",
      "    to  \n",
      "  ['...']\n",
      "WARNING:tensorflow:sample_weight modes were coerced from\n",
      "  ...\n",
      "    to  \n",
      "  ['...']\n",
      "Train for 1560 steps, validate for 163 steps\n",
      "Epoch 1/20\n",
      "  13/1560 [..............................] - ETA: 48:56 - loss: 0.7336 - accuracy: 0.5104WARNING:tensorflow:Early stopping conditioned on metric `val_loss` which is not available. Available metrics are: loss,accuracy\n"
     ]
    },
    {
     "ename": "KeyboardInterrupt",
     "evalue": "",
     "output_type": "error",
     "traceback": [
      "\u001b[1;31m---------------------------------------------------------------------------\u001b[0m",
      "\u001b[1;31mKeyboardInterrupt\u001b[0m                         Traceback (most recent call last)",
      "\u001b[1;32m<ipython-input-65-20a939153b86>\u001b[0m in \u001b[0;36m<module>\u001b[1;34m\u001b[0m\n\u001b[0;32m      1\u001b[0m results=model.fit(train_image_gen,epochs=20,\n\u001b[0;32m      2\u001b[0m                            \u001b[0mvalidation_data\u001b[0m\u001b[1;33m=\u001b[0m\u001b[0mtest_image_gen\u001b[0m\u001b[1;33m,\u001b[0m\u001b[1;33m\u001b[0m\u001b[1;33m\u001b[0m\u001b[0m\n\u001b[1;32m----> 3\u001b[1;33m                            callbacks=[early_stop])\n\u001b[0m",
      "\u001b[1;32mC:\\Users\\hp\\Anaconda3\\lib\\site-packages\\tensorflow_core\\python\\keras\\engine\\training.py\u001b[0m in \u001b[0;36mfit\u001b[1;34m(self, x, y, batch_size, epochs, verbose, callbacks, validation_split, validation_data, shuffle, class_weight, sample_weight, initial_epoch, steps_per_epoch, validation_steps, validation_freq, max_queue_size, workers, use_multiprocessing, **kwargs)\u001b[0m\n\u001b[0;32m    817\u001b[0m         \u001b[0mmax_queue_size\u001b[0m\u001b[1;33m=\u001b[0m\u001b[0mmax_queue_size\u001b[0m\u001b[1;33m,\u001b[0m\u001b[1;33m\u001b[0m\u001b[1;33m\u001b[0m\u001b[0m\n\u001b[0;32m    818\u001b[0m         \u001b[0mworkers\u001b[0m\u001b[1;33m=\u001b[0m\u001b[0mworkers\u001b[0m\u001b[1;33m,\u001b[0m\u001b[1;33m\u001b[0m\u001b[1;33m\u001b[0m\u001b[0m\n\u001b[1;32m--> 819\u001b[1;33m         use_multiprocessing=use_multiprocessing)\n\u001b[0m\u001b[0;32m    820\u001b[0m \u001b[1;33m\u001b[0m\u001b[0m\n\u001b[0;32m    821\u001b[0m   def evaluate(self,\n",
      "\u001b[1;32mC:\\Users\\hp\\Anaconda3\\lib\\site-packages\\tensorflow_core\\python\\keras\\engine\\training_v2.py\u001b[0m in \u001b[0;36mfit\u001b[1;34m(self, model, x, y, batch_size, epochs, verbose, callbacks, validation_split, validation_data, shuffle, class_weight, sample_weight, initial_epoch, steps_per_epoch, validation_steps, validation_freq, max_queue_size, workers, use_multiprocessing, **kwargs)\u001b[0m\n\u001b[0;32m    340\u001b[0m                 \u001b[0mmode\u001b[0m\u001b[1;33m=\u001b[0m\u001b[0mModeKeys\u001b[0m\u001b[1;33m.\u001b[0m\u001b[0mTRAIN\u001b[0m\u001b[1;33m,\u001b[0m\u001b[1;33m\u001b[0m\u001b[1;33m\u001b[0m\u001b[0m\n\u001b[0;32m    341\u001b[0m                 \u001b[0mtraining_context\u001b[0m\u001b[1;33m=\u001b[0m\u001b[0mtraining_context\u001b[0m\u001b[1;33m,\u001b[0m\u001b[1;33m\u001b[0m\u001b[1;33m\u001b[0m\u001b[0m\n\u001b[1;32m--> 342\u001b[1;33m                 total_epochs=epochs)\n\u001b[0m\u001b[0;32m    343\u001b[0m             \u001b[0mcbks\u001b[0m\u001b[1;33m.\u001b[0m\u001b[0mmake_logs\u001b[0m\u001b[1;33m(\u001b[0m\u001b[0mmodel\u001b[0m\u001b[1;33m,\u001b[0m \u001b[0mepoch_logs\u001b[0m\u001b[1;33m,\u001b[0m \u001b[0mtraining_result\u001b[0m\u001b[1;33m,\u001b[0m \u001b[0mModeKeys\u001b[0m\u001b[1;33m.\u001b[0m\u001b[0mTRAIN\u001b[0m\u001b[1;33m)\u001b[0m\u001b[1;33m\u001b[0m\u001b[1;33m\u001b[0m\u001b[0m\n\u001b[0;32m    344\u001b[0m \u001b[1;33m\u001b[0m\u001b[0m\n",
      "\u001b[1;32mC:\\Users\\hp\\Anaconda3\\lib\\site-packages\\tensorflow_core\\python\\keras\\engine\\training_v2.py\u001b[0m in \u001b[0;36mrun_one_epoch\u001b[1;34m(model, iterator, execution_function, dataset_size, batch_size, strategy, steps_per_epoch, num_samples, mode, training_context, total_epochs)\u001b[0m\n\u001b[0;32m    126\u001b[0m         step=step, mode=mode, size=current_batch_size) as batch_logs:\n\u001b[0;32m    127\u001b[0m       \u001b[1;32mtry\u001b[0m\u001b[1;33m:\u001b[0m\u001b[1;33m\u001b[0m\u001b[1;33m\u001b[0m\u001b[0m\n\u001b[1;32m--> 128\u001b[1;33m         \u001b[0mbatch_outs\u001b[0m \u001b[1;33m=\u001b[0m \u001b[0mexecution_function\u001b[0m\u001b[1;33m(\u001b[0m\u001b[0miterator\u001b[0m\u001b[1;33m)\u001b[0m\u001b[1;33m\u001b[0m\u001b[1;33m\u001b[0m\u001b[0m\n\u001b[0m\u001b[0;32m    129\u001b[0m       \u001b[1;32mexcept\u001b[0m \u001b[1;33m(\u001b[0m\u001b[0mStopIteration\u001b[0m\u001b[1;33m,\u001b[0m \u001b[0merrors\u001b[0m\u001b[1;33m.\u001b[0m\u001b[0mOutOfRangeError\u001b[0m\u001b[1;33m)\u001b[0m\u001b[1;33m:\u001b[0m\u001b[1;33m\u001b[0m\u001b[1;33m\u001b[0m\u001b[0m\n\u001b[0;32m    130\u001b[0m         \u001b[1;31m# TODO(kaftan): File bug about tf function and errors.OutOfRangeError?\u001b[0m\u001b[1;33m\u001b[0m\u001b[1;33m\u001b[0m\u001b[1;33m\u001b[0m\u001b[0m\n",
      "\u001b[1;32mC:\\Users\\hp\\Anaconda3\\lib\\site-packages\\tensorflow_core\\python\\keras\\engine\\training_v2_utils.py\u001b[0m in \u001b[0;36mexecution_function\u001b[1;34m(input_fn)\u001b[0m\n\u001b[0;32m     96\u001b[0m     \u001b[1;31m# `numpy` translates Tensors to values in Eager mode.\u001b[0m\u001b[1;33m\u001b[0m\u001b[1;33m\u001b[0m\u001b[1;33m\u001b[0m\u001b[0m\n\u001b[0;32m     97\u001b[0m     return nest.map_structure(_non_none_constant_value,\n\u001b[1;32m---> 98\u001b[1;33m                               distributed_function(input_fn))\n\u001b[0m\u001b[0;32m     99\u001b[0m \u001b[1;33m\u001b[0m\u001b[0m\n\u001b[0;32m    100\u001b[0m   \u001b[1;32mreturn\u001b[0m \u001b[0mexecution_function\u001b[0m\u001b[1;33m\u001b[0m\u001b[1;33m\u001b[0m\u001b[0m\n",
      "\u001b[1;32mC:\\Users\\hp\\Anaconda3\\lib\\site-packages\\tensorflow_core\\python\\eager\\def_function.py\u001b[0m in \u001b[0;36m__call__\u001b[1;34m(self, *args, **kwds)\u001b[0m\n\u001b[0;32m    566\u001b[0m         \u001b[0mxla_context\u001b[0m\u001b[1;33m.\u001b[0m\u001b[0mExit\u001b[0m\u001b[1;33m(\u001b[0m\u001b[1;33m)\u001b[0m\u001b[1;33m\u001b[0m\u001b[1;33m\u001b[0m\u001b[0m\n\u001b[0;32m    567\u001b[0m     \u001b[1;32melse\u001b[0m\u001b[1;33m:\u001b[0m\u001b[1;33m\u001b[0m\u001b[1;33m\u001b[0m\u001b[0m\n\u001b[1;32m--> 568\u001b[1;33m       \u001b[0mresult\u001b[0m \u001b[1;33m=\u001b[0m \u001b[0mself\u001b[0m\u001b[1;33m.\u001b[0m\u001b[0m_call\u001b[0m\u001b[1;33m(\u001b[0m\u001b[1;33m*\u001b[0m\u001b[0margs\u001b[0m\u001b[1;33m,\u001b[0m \u001b[1;33m**\u001b[0m\u001b[0mkwds\u001b[0m\u001b[1;33m)\u001b[0m\u001b[1;33m\u001b[0m\u001b[1;33m\u001b[0m\u001b[0m\n\u001b[0m\u001b[0;32m    569\u001b[0m \u001b[1;33m\u001b[0m\u001b[0m\n\u001b[0;32m    570\u001b[0m     \u001b[1;32mif\u001b[0m \u001b[0mtracing_count\u001b[0m \u001b[1;33m==\u001b[0m \u001b[0mself\u001b[0m\u001b[1;33m.\u001b[0m\u001b[0m_get_tracing_count\u001b[0m\u001b[1;33m(\u001b[0m\u001b[1;33m)\u001b[0m\u001b[1;33m:\u001b[0m\u001b[1;33m\u001b[0m\u001b[1;33m\u001b[0m\u001b[0m\n",
      "\u001b[1;32mC:\\Users\\hp\\Anaconda3\\lib\\site-packages\\tensorflow_core\\python\\eager\\def_function.py\u001b[0m in \u001b[0;36m_call\u001b[1;34m(self, *args, **kwds)\u001b[0m\n\u001b[0;32m    597\u001b[0m       \u001b[1;31m# In this case we have created variables on the first call, so we run the\u001b[0m\u001b[1;33m\u001b[0m\u001b[1;33m\u001b[0m\u001b[1;33m\u001b[0m\u001b[0m\n\u001b[0;32m    598\u001b[0m       \u001b[1;31m# defunned version which is guaranteed to never create variables.\u001b[0m\u001b[1;33m\u001b[0m\u001b[1;33m\u001b[0m\u001b[1;33m\u001b[0m\u001b[0m\n\u001b[1;32m--> 599\u001b[1;33m       \u001b[1;32mreturn\u001b[0m \u001b[0mself\u001b[0m\u001b[1;33m.\u001b[0m\u001b[0m_stateless_fn\u001b[0m\u001b[1;33m(\u001b[0m\u001b[1;33m*\u001b[0m\u001b[0margs\u001b[0m\u001b[1;33m,\u001b[0m \u001b[1;33m**\u001b[0m\u001b[0mkwds\u001b[0m\u001b[1;33m)\u001b[0m  \u001b[1;31m# pylint: disable=not-callable\u001b[0m\u001b[1;33m\u001b[0m\u001b[1;33m\u001b[0m\u001b[0m\n\u001b[0m\u001b[0;32m    600\u001b[0m     \u001b[1;32melif\u001b[0m \u001b[0mself\u001b[0m\u001b[1;33m.\u001b[0m\u001b[0m_stateful_fn\u001b[0m \u001b[1;32mis\u001b[0m \u001b[1;32mnot\u001b[0m \u001b[1;32mNone\u001b[0m\u001b[1;33m:\u001b[0m\u001b[1;33m\u001b[0m\u001b[1;33m\u001b[0m\u001b[0m\n\u001b[0;32m    601\u001b[0m       \u001b[1;31m# Release the lock early so that multiple threads can perform the call\u001b[0m\u001b[1;33m\u001b[0m\u001b[1;33m\u001b[0m\u001b[1;33m\u001b[0m\u001b[0m\n",
      "\u001b[1;32mC:\\Users\\hp\\Anaconda3\\lib\\site-packages\\tensorflow_core\\python\\eager\\function.py\u001b[0m in \u001b[0;36m__call__\u001b[1;34m(self, *args, **kwargs)\u001b[0m\n\u001b[0;32m   2361\u001b[0m     \u001b[1;32mwith\u001b[0m \u001b[0mself\u001b[0m\u001b[1;33m.\u001b[0m\u001b[0m_lock\u001b[0m\u001b[1;33m:\u001b[0m\u001b[1;33m\u001b[0m\u001b[1;33m\u001b[0m\u001b[0m\n\u001b[0;32m   2362\u001b[0m       \u001b[0mgraph_function\u001b[0m\u001b[1;33m,\u001b[0m \u001b[0margs\u001b[0m\u001b[1;33m,\u001b[0m \u001b[0mkwargs\u001b[0m \u001b[1;33m=\u001b[0m \u001b[0mself\u001b[0m\u001b[1;33m.\u001b[0m\u001b[0m_maybe_define_function\u001b[0m\u001b[1;33m(\u001b[0m\u001b[0margs\u001b[0m\u001b[1;33m,\u001b[0m \u001b[0mkwargs\u001b[0m\u001b[1;33m)\u001b[0m\u001b[1;33m\u001b[0m\u001b[1;33m\u001b[0m\u001b[0m\n\u001b[1;32m-> 2363\u001b[1;33m     \u001b[1;32mreturn\u001b[0m \u001b[0mgraph_function\u001b[0m\u001b[1;33m.\u001b[0m\u001b[0m_filtered_call\u001b[0m\u001b[1;33m(\u001b[0m\u001b[0margs\u001b[0m\u001b[1;33m,\u001b[0m \u001b[0mkwargs\u001b[0m\u001b[1;33m)\u001b[0m  \u001b[1;31m# pylint: disable=protected-access\u001b[0m\u001b[1;33m\u001b[0m\u001b[1;33m\u001b[0m\u001b[0m\n\u001b[0m\u001b[0;32m   2364\u001b[0m \u001b[1;33m\u001b[0m\u001b[0m\n\u001b[0;32m   2365\u001b[0m   \u001b[1;33m@\u001b[0m\u001b[0mproperty\u001b[0m\u001b[1;33m\u001b[0m\u001b[1;33m\u001b[0m\u001b[0m\n",
      "\u001b[1;32mC:\\Users\\hp\\Anaconda3\\lib\\site-packages\\tensorflow_core\\python\\eager\\function.py\u001b[0m in \u001b[0;36m_filtered_call\u001b[1;34m(self, args, kwargs)\u001b[0m\n\u001b[0;32m   1609\u001b[0m          if isinstance(t, (ops.Tensor,\n\u001b[0;32m   1610\u001b[0m                            resource_variable_ops.BaseResourceVariable))),\n\u001b[1;32m-> 1611\u001b[1;33m         self.captured_inputs)\n\u001b[0m\u001b[0;32m   1612\u001b[0m \u001b[1;33m\u001b[0m\u001b[0m\n\u001b[0;32m   1613\u001b[0m   \u001b[1;32mdef\u001b[0m \u001b[0m_call_flat\u001b[0m\u001b[1;33m(\u001b[0m\u001b[0mself\u001b[0m\u001b[1;33m,\u001b[0m \u001b[0margs\u001b[0m\u001b[1;33m,\u001b[0m \u001b[0mcaptured_inputs\u001b[0m\u001b[1;33m,\u001b[0m \u001b[0mcancellation_manager\u001b[0m\u001b[1;33m=\u001b[0m\u001b[1;32mNone\u001b[0m\u001b[1;33m)\u001b[0m\u001b[1;33m:\u001b[0m\u001b[1;33m\u001b[0m\u001b[1;33m\u001b[0m\u001b[0m\n",
      "\u001b[1;32mC:\\Users\\hp\\Anaconda3\\lib\\site-packages\\tensorflow_core\\python\\eager\\function.py\u001b[0m in \u001b[0;36m_call_flat\u001b[1;34m(self, args, captured_inputs, cancellation_manager)\u001b[0m\n\u001b[0;32m   1690\u001b[0m       \u001b[1;31m# No tape is watching; skip to running the function.\u001b[0m\u001b[1;33m\u001b[0m\u001b[1;33m\u001b[0m\u001b[1;33m\u001b[0m\u001b[0m\n\u001b[0;32m   1691\u001b[0m       return self._build_call_outputs(self._inference_function.call(\n\u001b[1;32m-> 1692\u001b[1;33m           ctx, args, cancellation_manager=cancellation_manager))\n\u001b[0m\u001b[0;32m   1693\u001b[0m     forward_backward = self._select_forward_and_backward_functions(\n\u001b[0;32m   1694\u001b[0m         \u001b[0margs\u001b[0m\u001b[1;33m,\u001b[0m\u001b[1;33m\u001b[0m\u001b[1;33m\u001b[0m\u001b[0m\n",
      "\u001b[1;32mC:\\Users\\hp\\Anaconda3\\lib\\site-packages\\tensorflow_core\\python\\eager\\function.py\u001b[0m in \u001b[0;36mcall\u001b[1;34m(self, ctx, args, cancellation_manager)\u001b[0m\n\u001b[0;32m    543\u001b[0m               \u001b[0minputs\u001b[0m\u001b[1;33m=\u001b[0m\u001b[0margs\u001b[0m\u001b[1;33m,\u001b[0m\u001b[1;33m\u001b[0m\u001b[1;33m\u001b[0m\u001b[0m\n\u001b[0;32m    544\u001b[0m               \u001b[0mattrs\u001b[0m\u001b[1;33m=\u001b[0m\u001b[1;33m(\u001b[0m\u001b[1;34m\"executor_type\"\u001b[0m\u001b[1;33m,\u001b[0m \u001b[0mexecutor_type\u001b[0m\u001b[1;33m,\u001b[0m \u001b[1;34m\"config_proto\"\u001b[0m\u001b[1;33m,\u001b[0m \u001b[0mconfig\u001b[0m\u001b[1;33m)\u001b[0m\u001b[1;33m,\u001b[0m\u001b[1;33m\u001b[0m\u001b[1;33m\u001b[0m\u001b[0m\n\u001b[1;32m--> 545\u001b[1;33m               ctx=ctx)\n\u001b[0m\u001b[0;32m    546\u001b[0m         \u001b[1;32melse\u001b[0m\u001b[1;33m:\u001b[0m\u001b[1;33m\u001b[0m\u001b[1;33m\u001b[0m\u001b[0m\n\u001b[0;32m    547\u001b[0m           outputs = execute.execute_with_cancellation(\n",
      "\u001b[1;32mC:\\Users\\hp\\Anaconda3\\lib\\site-packages\\tensorflow_core\\python\\eager\\execute.py\u001b[0m in \u001b[0;36mquick_execute\u001b[1;34m(op_name, num_outputs, inputs, attrs, ctx, name)\u001b[0m\n\u001b[0;32m     59\u001b[0m     tensors = pywrap_tensorflow.TFE_Py_Execute(ctx._handle, device_name,\n\u001b[0;32m     60\u001b[0m                                                \u001b[0mop_name\u001b[0m\u001b[1;33m,\u001b[0m \u001b[0minputs\u001b[0m\u001b[1;33m,\u001b[0m \u001b[0mattrs\u001b[0m\u001b[1;33m,\u001b[0m\u001b[1;33m\u001b[0m\u001b[1;33m\u001b[0m\u001b[0m\n\u001b[1;32m---> 61\u001b[1;33m                                                num_outputs)\n\u001b[0m\u001b[0;32m     62\u001b[0m   \u001b[1;32mexcept\u001b[0m \u001b[0mcore\u001b[0m\u001b[1;33m.\u001b[0m\u001b[0m_NotOkStatusException\u001b[0m \u001b[1;32mas\u001b[0m \u001b[0me\u001b[0m\u001b[1;33m:\u001b[0m\u001b[1;33m\u001b[0m\u001b[1;33m\u001b[0m\u001b[0m\n\u001b[0;32m     63\u001b[0m     \u001b[1;32mif\u001b[0m \u001b[0mname\u001b[0m \u001b[1;32mis\u001b[0m \u001b[1;32mnot\u001b[0m \u001b[1;32mNone\u001b[0m\u001b[1;33m:\u001b[0m\u001b[1;33m\u001b[0m\u001b[1;33m\u001b[0m\u001b[0m\n",
      "\u001b[1;31mKeyboardInterrupt\u001b[0m: "
     ]
    }
   ],
   "source": [
    "results=model.fit(train_image_gen,epochs=20,\n",
    "                           validation_data=test_image_gen,\n",
    "                           callbacks=[early_stop])"
   ]
  },
  {
   "cell_type": "code",
   "execution_count": null,
   "id": "0c25ee75",
   "metadata": {},
   "outputs": [],
   "source": [
    "#for evaluation look at the lecture\n",
    "#https://www.youtube.com/watch?v=Ahy50JCRYNk\n",
    "#https://blog.keras.io/building-powerful-image-classification-models-using-very-little-data.html"
   ]
  }
 ],
 "metadata": {
  "kernelspec": {
   "display_name": "Python 3",
   "language": "python",
   "name": "python3"
  },
  "language_info": {
   "codemirror_mode": {
    "name": "ipython",
    "version": 3
   },
   "file_extension": ".py",
   "mimetype": "text/x-python",
   "name": "python",
   "nbconvert_exporter": "python",
   "pygments_lexer": "ipython3",
   "version": "3.7.4"
  }
 },
 "nbformat": 4,
 "nbformat_minor": 5
}
